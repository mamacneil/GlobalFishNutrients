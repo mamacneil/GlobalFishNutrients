{
 "cells": [
  {
   "cell_type": "markdown",
   "metadata": {},
   "source": [
    "# Model-based estimated fisheries nutrition by EEZ"
   ]
  },
  {
   "cell_type": "code",
   "execution_count": 1,
   "metadata": {},
   "outputs": [],
   "source": [
    "# Import python packages\n",
    "%matplotlib inline\n",
    "import pandas as pd\n",
    "import numpy as np\n",
    "import matplotlib.pyplot as plt\n",
    "import matplotlib as mp\n",
    "import pymc3 as pm\n",
    "import theano as T\n",
    "import theano.tensor as tt\n",
    "import seaborn as sns\n",
    "import scipy as sp\n",
    "import pdb\n",
    "import os as os\n",
    "\n",
    "# Helper functions\n",
    "def indexall(L):\n",
    "    poo = []\n",
    "    for p in L:\n",
    "        if not p in poo:\n",
    "            poo.append(p)\n",
    "    Ix = np.array([poo.index(p) for p in L])\n",
    "    return poo,Ix\n",
    "\n",
    "def subindexall(short,long):\n",
    "    poo = []\n",
    "    out = []\n",
    "    for s,l in zip(short,long):\n",
    "        if not l in poo:\n",
    "            poo.append(l)\n",
    "            out.append(s)\n",
    "    return indexall(out)\n",
    "\n",
    "match = lambda a, b: np.array([ b.index(x) if x in b else None for x in a ])\n",
    "grep = lambda s, l: np.array([i for i in l if s in i])\n",
    "\n",
    "# Function to standardize covariates\n",
    "def stdize(x):\n",
    "    return (x-np.mean(x))/(2*np.std(x))\n",
    "\n",
    "def spanzero(pair):\n",
    "    out = True\n",
    "    if all(pair<0) or all(pair>0):\n",
    "        out = False\n",
    "    return out"
   ]
  },
  {
   "cell_type": "markdown",
   "metadata": {},
   "source": [
    "## Import data sources"
   ]
  },
  {
   "cell_type": "code",
   "execution_count": 2,
   "metadata": {},
   "outputs": [],
   "source": [
    "# Nutritional data\n",
    "ndata = pd.read_excel('Nutrient_data.xlsx')\n",
    "# Traits data\n",
    "tdata = pd.read_csv('Traits_data.csv')\n",
    "# Sea Around Us data\n",
    "sdata = pd.read_csv('Reported_unreported_EEZ.csv')"
   ]
  },
  {
   "cell_type": "code",
   "execution_count": 3,
   "metadata": {},
   "outputs": [
    {
     "data": {
      "text/plain": [
       "array(['ID_no', 'Species_from_search', 'Protein_Replicates',\n",
       "       'Protein_Value_perc', 'Protein_Variance', 'Zn_Replicates',\n",
       "       'Zn_Value', 'Zn_Variance', 'Ca_Replicates', 'Ca_Value',\n",
       "       'Ca_Variance', 'Fe_Replicates', 'Fe_Value', 'Fe_Variance',\n",
       "       'Se_Replicates', 'Se_Value', 'Se_Variance', 'P_Replicates',\n",
       "       'P_Value', 'P_Variance', 'Mg_Replicates', 'Mg_Value',\n",
       "       'Mg_Variance', 'VitA_Replicates', 'VitA_Value', 'VitA_Variance',\n",
       "       'VitB12_Replicates', 'VitB12_Value', 'VitB12_Variance',\n",
       "       'O3_Replicates', 'O3_Value', 'O3_Variance', 'Unnamed: 32',\n",
       "       'Form_Clean', 'Search', 'Year', 'GeographicLocation_Cleaned',\n",
       "       'Family', 'Prep', 'Protein_prep', 'Minerals_prep', 'Vitamin_prep',\n",
       "       'FA_prep', 'Protein_Sample_Weight', 'Zn_Sample_Weight',\n",
       "       'Ca_Sample_Weight', 'Fe_Sample_Weight', 'Se_Sample_Weight',\n",
       "       'P_Sample_Weight', 'Mg_Sample_Weight', 'VitA_Sample_Weight',\n",
       "       'VitB12_Sample_Weight', 'O3_Sample_Weight'], dtype=object)"
      ]
     },
     "execution_count": 3,
     "metadata": {},
     "output_type": "execute_result"
    }
   ],
   "source": [
    "ndata.columns.values"
   ]
  },
  {
   "cell_type": "code",
   "execution_count": 4,
   "metadata": {},
   "outputs": [
    {
     "data": {
      "text/plain": [
       "array(['species_traits_all', 'level', 'Class', 'Order', 'Family',\n",
       "       'Genus_1', 'Species_Species', 'DemersPelag', 'EnvTemp',\n",
       "       'DepthRangeDeep', 'trophic_level', 'Feeding_path', 'LMax',\n",
       "       'BodyShapeI', 'K', 'tm', 'DemersPelagLevel', 'EnvTempLevel',\n",
       "       'DepthRangeDeepLevel', 'trophic_levelLevel', 'Feeding_pathLevel',\n",
       "       'LMaxLevel', 'BodyShapeILevel', 'KLevel', 'tmLevel', 'Unnamed: 25'],\n",
       "      dtype=object)"
      ]
     },
     "execution_count": 4,
     "metadata": {},
     "output_type": "execute_result"
    }
   ],
   "source": [
    "tdata.columns.values"
   ]
  },
  {
   "cell_type": "code",
   "execution_count": 5,
   "metadata": {},
   "outputs": [
    {
     "data": {
      "text/plain": [
       "array(['EEZ', 'species', '5yr_tonnage', 'annual_tonnage'], dtype=object)"
      ]
     },
     "execution_count": 5,
     "metadata": {},
     "output_type": "execute_result"
    }
   ],
   "source": [
    "sdata.columns.values"
   ]
  },
  {
   "cell_type": "code",
   "execution_count": 6,
   "metadata": {},
   "outputs": [],
   "source": [
    "dfa = pd.get_dummies(tdata[['DemersPelag', 'EnvTemp',\n",
    "       'DepthRangeDeep', 'trophic_level', 'Feeding_path', 'LMax',\n",
    "       'BodyShapeI', 'K', 'tm', 'DemersPelagLevel', 'EnvTempLevel',\n",
    "       'DepthRangeDeepLevel', 'trophic_levelLevel', 'Feeding_pathLevel',\n",
    "       'LMaxLevel', 'BodyShapeILevel', 'KLevel', 'tmLevel']])\n",
    "trait_corr = dfa.corr()\n",
    "#trait_corr"
   ]
  },
  {
   "cell_type": "code",
   "execution_count": 7,
   "metadata": {},
   "outputs": [],
   "source": [
    "trait_corr.to_csv('trait_correlations.csv')"
   ]
  },
  {
   "cell_type": "code",
   "execution_count": 8,
   "metadata": {},
   "outputs": [],
   "source": [
    "## Get proportion of total catch per species per EEZ\n",
    "\n",
    "# National total catch\n",
    "tmp_nations,It = indexall(sdata.EEZ.values)\n",
    "sdata['prop_catch'] = sdata.annual_tonnage.values/np.array([sum(sdata.annual_tonnage.values[sdata.EEZ.values==c]) for c in tmp_nations])[It]"
   ]
  },
  {
   "cell_type": "code",
   "execution_count": 9,
   "metadata": {},
   "outputs": [],
   "source": [
    "# Add traits information to nutritional dataframe\n",
    "indx = match(ndata.Species_from_search.unique(),list(tdata.species_traits_all.values))\n",
    "rindx = match(ndata.Species_from_search,list(ndata.Species_from_search.unique()))\n",
    "\n",
    "# Traits to port over\n",
    "tmp = ['Class', 'Order', 'Family','Genus_1', 'DemersPelag',\n",
    "       'EnvTemp', 'DepthRangeDeep', 'trophic_level', 'Feeding_path', 'LMax',\n",
    "       'BodyShapeI', 'K', 'tm']\n",
    "# Port over\n",
    "for trait in tmp:\n",
    "    ndata[trait] = tdata[trait].values[indx][rindx]"
   ]
  },
  {
   "cell_type": "code",
   "execution_count": 10,
   "metadata": {},
   "outputs": [],
   "source": [
    "# Add traits information to sau dataframe\n",
    "indx = match(sdata.species.unique(),list(tdata.species_traits_all.values))\n",
    "rindx = match(sdata.species,list(sdata.species.unique()))\n",
    "\n",
    "# Traits to port over\n",
    "tmp = ['Class', 'Order', 'Family','Genus_1', 'DemersPelag',\n",
    "       'EnvTemp', 'DepthRangeDeep', 'trophic_level', 'Feeding_path', 'LMax',\n",
    "       'BodyShapeI', 'K', 'tm']\n",
    "# Port over\n",
    "for trait in tmp:\n",
    "    sdata[trait] = tdata[trait].values[indx][rindx]"
   ]
  },
  {
   "cell_type": "code",
   "execution_count": 11,
   "metadata": {},
   "outputs": [],
   "source": [
    "# Remove SAU rows with -999\n",
    "mdata = sdata.loc[sdata.K==-999,]\n",
    "sdata = sdata.loc[sdata.K!=-999,]"
   ]
  },
  {
   "cell_type": "code",
   "execution_count": 12,
   "metadata": {},
   "outputs": [
    {
     "data": {
      "text/html": [
       "<div>\n",
       "<style scoped>\n",
       "    .dataframe tbody tr th:only-of-type {\n",
       "        vertical-align: middle;\n",
       "    }\n",
       "\n",
       "    .dataframe tbody tr th {\n",
       "        vertical-align: top;\n",
       "    }\n",
       "\n",
       "    .dataframe thead th {\n",
       "        text-align: right;\n",
       "    }\n",
       "</style>\n",
       "<table border=\"1\" class=\"dataframe\">\n",
       "  <thead>\n",
       "    <tr style=\"text-align: right;\">\n",
       "      <th></th>\n",
       "      <th>EEZ</th>\n",
       "      <th>species</th>\n",
       "      <th>5yr_tonnage</th>\n",
       "      <th>annual_tonnage</th>\n",
       "      <th>prop_catch</th>\n",
       "      <th>Class</th>\n",
       "      <th>Order</th>\n",
       "      <th>Family</th>\n",
       "      <th>Genus_1</th>\n",
       "      <th>DemersPelag</th>\n",
       "      <th>EnvTemp</th>\n",
       "      <th>DepthRangeDeep</th>\n",
       "      <th>trophic_level</th>\n",
       "      <th>Feeding_path</th>\n",
       "      <th>LMax</th>\n",
       "      <th>BodyShapeI</th>\n",
       "      <th>K</th>\n",
       "      <th>tm</th>\n",
       "    </tr>\n",
       "  </thead>\n",
       "  <tbody>\n",
       "  </tbody>\n",
       "</table>\n",
       "</div>"
      ],
      "text/plain": [
       "Empty DataFrame\n",
       "Columns: [EEZ, species, 5yr_tonnage, annual_tonnage, prop_catch, Class, Order, Family, Genus_1, DemersPelag, EnvTemp, DepthRangeDeep, trophic_level, Feeding_path, LMax, BodyShapeI, K, tm]\n",
       "Index: []"
      ]
     },
     "execution_count": 12,
     "metadata": {},
     "output_type": "execute_result"
    }
   ],
   "source": [
    "# Check there's nothing missing\n",
    "mdata"
   ]
  },
  {
   "cell_type": "code",
   "execution_count": 13,
   "metadata": {},
   "outputs": [],
   "source": [
    "Nutrients = ['Protein', 'Zinc', 'Iron', 'Calcium', 'Omega3', 'Vitamin_A', 'Selenium']\n",
    "Nkeys = ['Protein_Value_perc', 'Zn_Value', 'Fe_Value', 'Ca_Value', 'O3_Value', 'VitA_Value', 'Se_Value']\n",
    "nnutrients = len(Nutrients)"
   ]
  },
  {
   "cell_type": "markdown",
   "metadata": {
    "collapsed": true
   },
   "source": [
    "## Import results"
   ]
  },
  {
   "cell_type": "code",
   "execution_count": 14,
   "metadata": {},
   "outputs": [],
   "source": [
    "Protein = pd.read_csv('Protein_results.csv')\n",
    "Zinc = pd.read_csv('Zinc_results.csv')\n",
    "Iron = pd.read_csv('Iron_results.csv')\n",
    "Calcium = pd.read_csv('Calcium_results.csv')\n",
    "Omega3 = pd.read_csv('Omega-3_results.csv')\n",
    "Vitamin_A = pd.read_csv('Vitamin_A_results.csv')\n",
    "Selenium = pd.read_csv('Selenium_results.csv')\n",
    "\n",
    "Results = [Protein, Zinc, Iron, Calcium, Omega3, Vitamin_A, Selenium]"
   ]
  },
  {
   "cell_type": "code",
   "execution_count": 15,
   "metadata": {},
   "outputs": [],
   "source": [
    "varord = ['reef_assoc', 'benthopela', 'pelagic_ne',\n",
    "       'pelagic_oc', 'subtropica', 'polar_deep', 'tropical', 'MaxDepth', 'TL',\n",
    "       'Pelagic', 'LMax', 'short_deep', 'elongate', 'flat', 'K', 'tm', 'whole',\n",
    "       'whole_part', 'dry', 'Expert', 'FAO']\n",
    "varnames = ['Reef assoc.', 'Benthopelagic', 'Pelagic-neritic',\n",
    "       'Pelagic-oceanic', 'Subtropical', 'Polar/deep', 'Tropical', 'Max depth', 'Trophic level',\n",
    "       'Pelagic', 'Max length', 'Short-deep', 'Elongate', 'Flat', 'K', 'Maturity age', 'Whole',\n",
    "       'Whole-noparts', 'Dry', 'Expert', 'FAO']\n",
    "nvar = len(varnames)"
   ]
  },
  {
   "cell_type": "markdown",
   "metadata": {},
   "source": [
    "# EEZ predictions"
   ]
  },
  {
   "cell_type": "code",
   "execution_count": 16,
   "metadata": {},
   "outputs": [],
   "source": [
    "nrows = sdata.shape[0]"
   ]
  },
  {
   "cell_type": "code",
   "execution_count": 17,
   "metadata": {},
   "outputs": [],
   "source": [
    "# Specify nutrient\n",
    "REZ = Protein\n",
    "\n",
    "# Add empty columns to SAU data\n",
    "xmu = np.empty(nrows)\n",
    "xl95 = np.empty(nrows)\n",
    "xl50 = np.empty(nrows)\n",
    "xu50 = np.empty(nrows)\n",
    "xu95 = np.empty(nrows)\n",
    "\n",
    "for i in range(nrows):\n",
    "    #print(i/nrows)\n",
    "    # μ = β0+β1[Ih]+β2[Ic]+β3*MaxDepth+β4*TL+β5*Pelagic+β6*LMax+β7[Ib]+β8*K+β9*tm+β10[If]+β11[Ip]+β12[Is]\n",
    "    tmp = sdata.iloc[i]\n",
    "    # Expected nutrients\n",
    "    Ex = REZ['Intercept'].values+REZ[tmp['DemersPelag']].values+REZ[tmp['EnvTemp']].values+REZ['MaxDepth'].values*np.log(tmp['DepthRangeDeep'])+REZ['TL'].values*tmp['trophic_level']+REZ['pelagic'].values*1*(tmp['Feeding_path']=='pelagic')+REZ['LMax'].values*np.log(tmp['LMax'])+REZ[tmp['BodyShapeI']].values+REZ['K'].values*tmp['K']+REZ['tm'].values*np.log(tmp['tm'])\n",
    "    # Scaled to catch - g/100g to kg/yr = g/kg/yr\n",
    "    #nut = ((np.exp(Ex)-1)*10)*np.log(tmp['kg_year']/1000+1)\n",
    "    nut = ((np.exp(Ex)-1))\n",
    "    \n",
    "    # Add summary statistics to SAU data\n",
    "    xmu[i] = max(np.median(nut),0)\n",
    "    xl95[i] = max(np.percentile(nut,2.5),0)\n",
    "    xl50[i] = max(np.percentile(nut,25),0)\n",
    "    xu50[i] = max(np.percentile(nut,50),0)\n",
    "    xu95[i] = max(np.percentile(nut,97.5),0)\n",
    "    \n",
    "sdata['Protein_mu'] = xmu*sdata.prop_catch.values\n",
    "sdata['Protein_l95'] = xl95*sdata.prop_catch.values\n",
    "sdata['Protein_l50'] = xl50*sdata.prop_catch.values\n",
    "sdata['Protein_u50'] = xu50*sdata.prop_catch.values\n",
    "sdata['Protein_u95'] = xu95*sdata.prop_catch.values"
   ]
  },
  {
   "cell_type": "code",
   "execution_count": 18,
   "metadata": {},
   "outputs": [
    {
     "data": {
      "text/plain": [
       "array([1.31181344e-09, 1.40918515e-09, 1.60663336e-09, ...,\n",
       "       9.74114238e-02, 1.00363479e-01, 2.06028381e-01])"
      ]
     },
     "execution_count": 18,
     "metadata": {},
     "output_type": "execute_result"
    }
   ],
   "source": [
    "sdata.prop_catch.values"
   ]
  },
  {
   "cell_type": "code",
   "execution_count": 19,
   "metadata": {},
   "outputs": [
    {
     "data": {
      "image/png": "[encoded data removed]",
      "text/plain": [
       "<Figure size 432x288 with 1 Axes>"
      ]
     },
     "metadata": {
      "needs_background": "light"
     },
     "output_type": "display_data"
    }
   ],
   "source": [
    "plt.hist(sdata['Protein_mu']);"
   ]
  },
  {
   "cell_type": "code",
   "execution_count": 20,
   "metadata": {},
   "outputs": [
    {
     "data": {
      "image/png": "[encoded data removed]",
      "text/plain": [
       "<Figure size 432x288 with 1 Axes>"
      ]
     },
     "metadata": {
      "needs_background": "light"
     },
     "output_type": "display_data"
    }
   ],
   "source": [
    "Y_ = ndata.Protein_Value_perc.values\n",
    "indx = np.isnan(Y_)==False\n",
    "Y = Y_[indx]\n",
    "plt.hist(Y);"
   ]
  },
  {
   "cell_type": "code",
   "execution_count": 21,
   "metadata": {},
   "outputs": [],
   "source": [
    "# Specify nutrient\n",
    "REZ = Zinc\n",
    "\n",
    "# Add empty columns to SAU data\n",
    "xmu = np.empty(nrows)\n",
    "xl95 = np.empty(nrows)\n",
    "xl50 = np.empty(nrows)\n",
    "xu50 = np.empty(nrows)\n",
    "xu95 = np.empty(nrows)\n",
    "\n",
    "for i in range(nrows):\n",
    "    #print(i/nrows)\n",
    "    # μ = β0+β1[Ih]+β2[Ic]+β3*MaxDepth+β4*TL+β5*Pelagic+β6*LMax+β7[Ib]+β8*K+β9*tm+β10[If]+β11[Ip]+β12[Is]\n",
    "    tmp = sdata.iloc[i]\n",
    "    # Expected nutrients\n",
    "    Ex = REZ['Intercept'].values+REZ[tmp['DemersPelag']].values+REZ[tmp['EnvTemp']].values+REZ['MaxDepth'].values*np.log(tmp['DepthRangeDeep'])+REZ['TL'].values*tmp['trophic_level']+REZ['pelagic'].values*1*(tmp['Feeding_path']=='pelagic')+REZ['LMax'].values*np.log(tmp['LMax'])+REZ[tmp['BodyShapeI']].values+REZ['K'].values*tmp['K']+REZ['tm'].values*np.log(tmp['tm'])\n",
    "    # Scaled to catch - g/100g to kg/yr = g/kg/yr\n",
    "    #nut = ((np.exp(Ex)-1)*10)*np.log(tmp['kg_year']/1000+1)\n",
    "    nut = np.exp(((np.exp(Ex))))-1\n",
    "    \n",
    "    # Add summary statistics to SAU data\n",
    "    xmu[i] = max(np.median(nut),0)\n",
    "    xl95[i] = max(np.percentile(nut,2.5),0)\n",
    "    xl50[i] = max(np.percentile(nut,25),0)\n",
    "    xu50[i] = max(np.percentile(nut,50),0)\n",
    "    xu95[i] = max(np.percentile(nut,97.5),0)\n",
    "    \n",
    "sdata['Zinc_mu'] = xmu*sdata.prop_catch.values\n",
    "sdata['Zinc_l95'] = xl95*sdata.prop_catch.values\n",
    "sdata['Zinc_l50'] = xl50*sdata.prop_catch.values\n",
    "sdata['Zinc_u50'] = xu50*sdata.prop_catch.values\n",
    "sdata['Zinc_u95'] = xu95*sdata.prop_catch.values"
   ]
  },
  {
   "cell_type": "code",
   "execution_count": 22,
   "metadata": {},
   "outputs": [
    {
     "data": {
      "image/png": "[encoded data removed]",
      "text/plain": [
       "<Figure size 432x288 with 1 Axes>"
      ]
     },
     "metadata": {
      "needs_background": "light"
     },
     "output_type": "display_data"
    }
   ],
   "source": [
    "plt.hist(sdata['Zinc_mu'])\n",
    "plt.xlim(0,12);"
   ]
  },
  {
   "cell_type": "code",
   "execution_count": 23,
   "metadata": {},
   "outputs": [
    {
     "data": {
      "image/png": "[encoded data removed]",
      "text/plain": [
       "<Figure size 432x288 with 1 Axes>"
      ]
     },
     "metadata": {
      "needs_background": "light"
     },
     "output_type": "display_data"
    }
   ],
   "source": [
    "Y_ = ndata.Zn_Value.values\n",
    "indx = np.isnan(Y_)==False\n",
    "Y = Y_[indx]\n",
    "plt.hist(Y,bins=50)\n",
    "plt.xlim(0,12);"
   ]
  },
  {
   "cell_type": "code",
   "execution_count": 24,
   "metadata": {},
   "outputs": [],
   "source": [
    "# Specify nutrient\n",
    "REZ = Iron\n",
    "\n",
    "# Add empty columns to SAU data\n",
    "xmu = np.empty(nrows)\n",
    "xl95 = np.empty(nrows)\n",
    "xl50 = np.empty(nrows)\n",
    "xu50 = np.empty(nrows)\n",
    "xu95 = np.empty(nrows)\n",
    "\n",
    "for i in range(nrows):\n",
    "    #print(i/nrows)\n",
    "    # μ = β0+β1[Ih]+β2[Ic]+β3*MaxDepth+β4*TL+β5*Pelagic+β6*LMax+β7[Ib]+β8*K+β9*tm+β10[If]+β11[Ip]+β12[Is]\n",
    "    tmp = sdata.iloc[i]\n",
    "    # Expected nutrients\n",
    "    Ex = REZ['Intercept'].values+REZ[tmp['DemersPelag']].values+REZ[tmp['EnvTemp']].values+REZ['MaxDepth'].values*np.log(tmp['DepthRangeDeep'])+REZ['TL'].values*tmp['trophic_level']+REZ['pelagic'].values*1*(tmp['Feeding_path']=='pelagic')+REZ['LMax'].values*np.log(tmp['LMax'])+REZ[tmp['BodyShapeI']].values+REZ['K'].values*tmp['K']+REZ['tm'].values*np.log(tmp['tm'])\n",
    "    # Scaled to catch - g/100g to kg/yr = g/kg/yr\n",
    "    #nut = ((np.exp(Ex)-1)*10)*np.log(tmp['kg_year']/1000+1)\n",
    "    nut = np.exp((np.exp(Ex)))-1\n",
    "    \n",
    "    # Add summary statistics to SAU data\n",
    "    xmu[i] = max(np.median(nut),0)\n",
    "    xl95[i] = max(np.percentile(nut,2.5),0)\n",
    "    xl50[i] = max(np.percentile(nut,25),0)\n",
    "    xu50[i] = max(np.percentile(nut,50),0)\n",
    "    xu95[i] = max(np.percentile(nut,97.5),0)\n",
    "    \n",
    "sdata['Iron_mu'] = xmu*sdata.prop_catch.values\n",
    "sdata['Iron_l95'] = xl95*sdata.prop_catch.values\n",
    "sdata['Iron_l50'] = xl50*sdata.prop_catch.values\n",
    "sdata['Iron_u50'] = xu50*sdata.prop_catch.values\n",
    "sdata['Iron_u95'] = xu95*sdata.prop_catch.values"
   ]
  },
  {
   "cell_type": "code",
   "execution_count": 25,
   "metadata": {},
   "outputs": [
    {
     "data": {
      "image/png": "[encoded data removed]",
      "text/plain": [
       "<Figure size 432x288 with 1 Axes>"
      ]
     },
     "metadata": {
      "needs_background": "light"
     },
     "output_type": "display_data"
    }
   ],
   "source": [
    "plt.hist(sdata['Iron_mu'],bins=10)\n",
    "plt.xlim(0,15);"
   ]
  },
  {
   "cell_type": "code",
   "execution_count": 26,
   "metadata": {},
   "outputs": [
    {
     "data": {
      "image/png": "[encoded data removed]",
      "text/plain": [
       "<Figure size 432x288 with 1 Axes>"
      ]
     },
     "metadata": {
      "needs_background": "light"
     },
     "output_type": "display_data"
    }
   ],
   "source": [
    "Y_ = ndata.Fe_Value.values\n",
    "indx = np.isnan(Y_)==False\n",
    "Y = Y_[indx]\n",
    "plt.hist(Y,bins=100)\n",
    "plt.xlim(0,15);"
   ]
  },
  {
   "cell_type": "code",
   "execution_count": 27,
   "metadata": {},
   "outputs": [],
   "source": [
    "# Specify nutrient\n",
    "REZ = Calcium\n",
    "\n",
    "# Add empty columns to SAU data\n",
    "xmu = np.empty(nrows)\n",
    "xl95 = np.empty(nrows)\n",
    "xl50 = np.empty(nrows)\n",
    "xu50 = np.empty(nrows)\n",
    "xu95 = np.empty(nrows)\n",
    "\n",
    "for i in range(nrows):\n",
    "    #print(i/nrows)\n",
    "    # μ = β0+β1[Ih]+β2[Ic]+β3*MaxDepth+β4*TL+β5*Pelagic+β6*LMax+β7[Ib]+β8*K+β9*tm+β10[If]+β11[Ip]+β12[Is]\n",
    "    tmp = sdata.iloc[i]\n",
    "    # Expected nutrients\n",
    "    Ex = REZ['Intercept'].values+REZ[tmp['DemersPelag']].values+REZ[tmp['EnvTemp']].values+REZ['MaxDepth'].values*np.log(tmp['DepthRangeDeep'])+REZ['TL'].values*tmp['trophic_level']+REZ['pelagic'].values*1*(tmp['Feeding_path']=='pelagic')+REZ['LMax'].values*np.log(tmp['LMax'])+REZ[tmp['BodyShapeI']].values+REZ['K'].values*tmp['K']+REZ['tm'].values*np.log(tmp['tm'])\n",
    "    # Scaled to catch - g/100g to kg/yr = g/kg/yr\n",
    "    #nut = ((np.exp(Ex)-1)*10)*np.log(tmp['kg_year']/1000+1)\n",
    "    nut = ((np.exp(Ex)-1))\n",
    "    \n",
    "    # Add summary statistics to SAU data\n",
    "    xmu[i] = max(np.median(nut),0)\n",
    "    xl95[i] = max(np.percentile(nut,2.5),0)\n",
    "    xl50[i] = max(np.percentile(nut,25),0)\n",
    "    xu50[i] = max(np.percentile(nut,50),0)\n",
    "    xu95[i] = max(np.percentile(nut,97.5),0)\n",
    "    \n",
    "sdata['Calcium_mu'] = xmu*sdata.prop_catch.values\n",
    "sdata['Calcium_l95'] = xl95*sdata.prop_catch.values\n",
    "sdata['Calcium_l50'] = xl50*sdata.prop_catch.values\n",
    "sdata['Calcium_u50'] = xu50*sdata.prop_catch.values\n",
    "sdata['Calcium_u95'] = xu95*sdata.prop_catch.values"
   ]
  },
  {
   "cell_type": "code",
   "execution_count": 28,
   "metadata": {},
   "outputs": [
    {
     "data": {
      "image/png": "[encoded data removed]",
      "text/plain": [
       "<Figure size 432x288 with 1 Axes>"
      ]
     },
     "metadata": {
      "needs_background": "light"
     },
     "output_type": "display_data"
    }
   ],
   "source": [
    "plt.hist(sdata['Calcium_mu'])\n",
    "plt.xlim(0,2000);"
   ]
  },
  {
   "cell_type": "code",
   "execution_count": 29,
   "metadata": {},
   "outputs": [
    {
     "data": {
      "image/png": "[encoded data removed]",
      "text/plain": [
       "<Figure size 432x288 with 1 Axes>"
      ]
     },
     "metadata": {
      "needs_background": "light"
     },
     "output_type": "display_data"
    }
   ],
   "source": [
    "Y_ = ndata.Ca_Value.values\n",
    "indx = np.isnan(Y_)==False\n",
    "Y = Y_[indx]\n",
    "plt.hist(Y,bins=50)\n",
    "plt.xlim(0,2000);"
   ]
  },
  {
   "cell_type": "code",
   "execution_count": 30,
   "metadata": {},
   "outputs": [],
   "source": [
    "# Specify nutrient\n",
    "REZ = Omega3\n",
    "\n",
    "# Add empty columns to SAU data\n",
    "xmu = np.empty(nrows)\n",
    "xl95 = np.empty(nrows)\n",
    "xl50 = np.empty(nrows)\n",
    "xu50 = np.empty(nrows)\n",
    "xu95 = np.empty(nrows)\n",
    "\n",
    "for i in range(nrows):\n",
    "    #print(i/nrows)\n",
    "    # μ = β0+β1[Ih]+β2[Ic]+β3*MaxDepth+β4*TL+β5*Pelagic+β6*LMax+β7[Ib]+β8*K+β9*tm+β10[If]+β11[Ip]+β12[Is]\n",
    "    tmp = sdata.iloc[i]\n",
    "    # Expected nutrients\n",
    "    Ex = REZ['Intercept'].values+REZ[tmp['DemersPelag']].values+REZ[tmp['EnvTemp']].values+REZ['MaxDepth'].values*np.log(tmp['DepthRangeDeep'])+REZ['TL'].values*tmp['trophic_level']+REZ['pelagic'].values*1*(tmp['Feeding_path']=='pelagic')+REZ['LMax'].values*np.log(tmp['LMax'])+REZ[tmp['BodyShapeI']].values+REZ['K'].values*tmp['K']+REZ['tm'].values*np.log(tmp['tm'])\n",
    "    # Scaled to catch - g/100g to kg/yr = g/kg/yr\n",
    "    #nut = ((np.exp(Ex)-1)*10)*np.log(tmp['kg_year']/1000+1)\n",
    "    nut = ((np.exp(Ex)-1))\n",
    "    \n",
    "    # Add summary statistics to SAU data\n",
    "    xmu[i] = max(np.median(nut),0)\n",
    "    xl95[i] = max(np.percentile(nut,2.5),0)\n",
    "    xl50[i] = max(np.percentile(nut,25),0)\n",
    "    xu50[i] = max(np.percentile(nut,50),0)\n",
    "    xu95[i] = max(np.percentile(nut,97.5),0)\n",
    "    \n",
    "sdata['Omega3_mu'] = xmu*sdata.prop_catch.values\n",
    "sdata['Omega3_l95'] = xl95*sdata.prop_catch.values\n",
    "sdata['Omega3_l50'] = xl50*sdata.prop_catch.values\n",
    "sdata['Omega3_u50'] = xu50*sdata.prop_catch.values\n",
    "sdata['Omega3_u95'] = xu95*sdata.prop_catch.values"
   ]
  },
  {
   "cell_type": "code",
   "execution_count": 31,
   "metadata": {},
   "outputs": [
    {
     "data": {
      "image/png": "[encoded data removed]",
      "text/plain": [
       "<Figure size 432x288 with 1 Axes>"
      ]
     },
     "metadata": {
      "needs_background": "light"
     },
     "output_type": "display_data"
    }
   ],
   "source": [
    "plt.hist(sdata['Omega3_mu'])\n",
    "plt.xlim(0,10);"
   ]
  },
  {
   "cell_type": "code",
   "execution_count": 32,
   "metadata": {},
   "outputs": [
    {
     "data": {
      "image/png": "[encoded data removed]",
      "text/plain": [
       "<Figure size 432x288 with 1 Axes>"
      ]
     },
     "metadata": {
      "needs_background": "light"
     },
     "output_type": "display_data"
    }
   ],
   "source": [
    "Y_ = ndata.O3_Value.values\n",
    "indx = np.isnan(Y_)==False\n",
    "Y = Y_[indx]\n",
    "plt.hist(Y,bins=100)\n",
    "plt.xlim(0,10);"
   ]
  },
  {
   "cell_type": "code",
   "execution_count": 33,
   "metadata": {},
   "outputs": [],
   "source": [
    "# Specify nutrient\n",
    "REZ = Vitamin_A\n",
    "\n",
    "# Add empty columns to SAU data\n",
    "xmu = np.empty(nrows)\n",
    "xl95 = np.empty(nrows)\n",
    "xl50 = np.empty(nrows)\n",
    "xu50 = np.empty(nrows)\n",
    "xu95 = np.empty(nrows)\n",
    "\n",
    "for i in range(nrows):\n",
    "    #print(i/nrows)\n",
    "    # μ = β0+β1[Ih]+β2[Ic]+β3*MaxDepth+β4*TL+β5*Pelagic+β6*LMax+β7[Ib]+β8*K+β9*tm+β10[If]+β11[Ip]+β12[Is]\n",
    "    tmp = sdata.iloc[i]\n",
    "    # Expected nutrients\n",
    "    Ex = REZ['Intercept'].values+REZ[tmp['DemersPelag']].values+REZ[tmp['EnvTemp']].values+REZ['MaxDepth'].values*np.log(tmp['DepthRangeDeep'])+REZ['TL'].values*tmp['trophic_level']+REZ['pelagic'].values*1*(tmp['Feeding_path']=='pelagic')+REZ['LMax'].values*np.log(tmp['LMax'])+REZ[tmp['BodyShapeI']].values+REZ['K'].values*tmp['K']+REZ['tm'].values*np.log(tmp['tm'])\n",
    "    # Scaled to catch - g/100g to kg/yr = g/kg/yr\n",
    "    #nut = ((np.exp(Ex)-1)*10)*np.log(tmp['kg_year']/1000+1)\n",
    "    nut = ((np.exp(Ex)-1))\n",
    "    \n",
    "    # Add summary statistics to SAU data\n",
    "    xmu[i] = max(np.median(nut),0)\n",
    "    xl95[i] = max(np.percentile(nut,2.5),0)\n",
    "    xl50[i] = max(np.percentile(nut,25),0)\n",
    "    xu50[i] = max(np.percentile(nut,50),0)\n",
    "    xu95[i] = max(np.percentile(nut,97.5),0)\n",
    "    \n",
    "sdata['Vitamin_A_mu'] = xmu*sdata.prop_catch.values\n",
    "sdata['Vitamin_A_l95'] = xl95*sdata.prop_catch.values\n",
    "sdata['Vitamin_A_l50'] = xl50*sdata.prop_catch.values\n",
    "sdata['Vitamin_A_u50'] = xu50*sdata.prop_catch.values\n",
    "sdata['Vitamin_A_u95'] = xu95*sdata.prop_catch.values"
   ]
  },
  {
   "cell_type": "code",
   "execution_count": 34,
   "metadata": {},
   "outputs": [
    {
     "data": {
      "image/png": "[encoded data removed]",
      "text/plain": [
       "<Figure size 432x288 with 1 Axes>"
      ]
     },
     "metadata": {
      "needs_background": "light"
     },
     "output_type": "display_data"
    }
   ],
   "source": [
    "plt.hist(sdata['Vitamin_A_mu'])\n",
    "plt.xlim(0,1000);"
   ]
  },
  {
   "cell_type": "code",
   "execution_count": 35,
   "metadata": {},
   "outputs": [
    {
     "data": {
      "image/png": "[encoded data removed]",
      "text/plain": [
       "<Figure size 432x288 with 1 Axes>"
      ]
     },
     "metadata": {
      "needs_background": "light"
     },
     "output_type": "display_data"
    }
   ],
   "source": [
    "Y_ = ndata.VitA_Value.values\n",
    "indx = np.isnan(Y_)==False\n",
    "Y = Y_[indx]\n",
    "plt.hist(Y,bins=100)\n",
    "plt.xlim(0,1000);"
   ]
  },
  {
   "cell_type": "code",
   "execution_count": 36,
   "metadata": {},
   "outputs": [],
   "source": [
    "# Specify nutrient\n",
    "REZ = Selenium\n",
    "\n",
    "# Add empty columns to SAU data\n",
    "xmu = np.empty(nrows)\n",
    "xl95 = np.empty(nrows)\n",
    "xl50 = np.empty(nrows)\n",
    "xu50 = np.empty(nrows)\n",
    "xu95 = np.empty(nrows)\n",
    "\n",
    "for i in range(nrows):\n",
    "    #print(i/nrows)\n",
    "    # μ = β0+β1[Ih]+β2[Ic]+β3*MaxDepth+β4*TL+β5*Pelagic+β6*LMax+β7[Ib]+β8*K+β9*tm+β10[If]+β11[Ip]+β12[Is]\n",
    "    tmp = sdata.iloc[i]\n",
    "    # Expected nutrients\n",
    "    Ex = REZ['Intercept'].values+REZ[tmp['DemersPelag']].values+REZ[tmp['EnvTemp']].values+REZ['MaxDepth'].values*np.log(tmp['DepthRangeDeep'])+REZ['TL'].values*tmp['trophic_level']+REZ['pelagic'].values*1*(tmp['Feeding_path']=='pelagic')+REZ['LMax'].values*np.log(tmp['LMax'])+REZ[tmp['BodyShapeI']].values+REZ['K'].values*tmp['K']+REZ['tm'].values*np.log(tmp['tm'])\n",
    "    # Scaled to catch - g/100g to kg/yr = g/kg/yr\n",
    "    #nut = ((np.exp(Ex)-1)*10)*np.log(tmp['kg_year']/1000+1)\n",
    "    nut = ((np.exp(Ex)-1))\n",
    "    \n",
    "    # Add summary statistics to SAU data\n",
    "    xmu[i] = max(np.median(nut),0)\n",
    "    xl95[i] = max(np.percentile(nut,2.5),0)\n",
    "    xl50[i] = max(np.percentile(nut,25),0)\n",
    "    xu50[i] = max(np.percentile(nut,50),0)\n",
    "    xu95[i] = max(np.percentile(nut,97.5),0)\n",
    "    \n",
    "sdata['Selenium_mu'] = xmu*sdata.prop_catch.values\n",
    "sdata['Selenium_l95'] = xl95*sdata.prop_catch.values\n",
    "sdata['Selenium_l50'] = xl50*sdata.prop_catch.values\n",
    "sdata['Selenium_u50'] = xu50*sdata.prop_catch.values\n",
    "sdata['Selenium_u95'] = xu95*sdata.prop_catch.values"
   ]
  },
  {
   "cell_type": "code",
   "execution_count": 37,
   "metadata": {},
   "outputs": [
    {
     "data": {
      "image/png": "[encoded data removed]",
      "text/plain": [
       "<Figure size 432x288 with 1 Axes>"
      ]
     },
     "metadata": {
      "needs_background": "light"
     },
     "output_type": "display_data"
    }
   ],
   "source": [
    "plt.hist(sdata['Selenium_mu'])\n",
    "plt.xlim(0,500);"
   ]
  },
  {
   "cell_type": "code",
   "execution_count": 38,
   "metadata": {},
   "outputs": [
    {
     "data": {
      "image/png": "[encoded data removed]",
      "text/plain": [
       "<Figure size 432x288 with 1 Axes>"
      ]
     },
     "metadata": {
      "needs_background": "light"
     },
     "output_type": "display_data"
    }
   ],
   "source": [
    "Y_ = ndata.Se_Value.values\n",
    "indx = np.isnan(Y_)==False\n",
    "Y = Y_[indx]\n",
    "plt.hist(Y,bins=100)\n",
    "plt.xlim(0,500);"
   ]
  },
  {
   "cell_type": "code",
   "execution_count": 39,
   "metadata": {},
   "outputs": [],
   "source": [
    "out = sdata.groupby(['EEZ'])[[\"Protein_mu\", \"Zinc_mu\", \"Iron_mu\", \"Calcium_mu\",\"Omega3_mu\",\"Vitamin_A_mu\",\"Selenium_mu\"]].sum()"
   ]
  },
  {
   "cell_type": "code",
   "execution_count": 40,
   "metadata": {},
   "outputs": [],
   "source": [
    "# Sort by EEZ name\n",
    "out = out.sort_values(['EEZ'],ascending=True)"
   ]
  },
  {
   "cell_type": "code",
   "execution_count": 41,
   "metadata": {},
   "outputs": [],
   "source": [
    "SAUnames = np.array(['Albania', 'Algeria', 'American Samoa', 'Angola',\n",
    "       'Antigua & Barbuda', 'Argentina', 'Australia',\n",
    "       'Macquarie Isl. (Australia)', 'Lord Howe Isl. (Australia)',\n",
    "       'Bahamas', 'Bahrain', 'Bangladesh', 'Barbados', 'Belgium',\n",
    "       'Bermuda (UK)', 'Bosnia & Herzegovina', 'Bouvet Isl. (Norway)',\n",
    "       'Brazil', 'Trindade & Martim Vaz Isl. (Brazil)', 'Belize',\n",
    "       'Chagos Archipelago (UK)', 'British Virgin Isl. (UK)',\n",
    "       'Brunei Darussalam', 'Bulgaria', 'Myanmar', 'Eritrea', 'Cambodia',\n",
    "       'Cameroon', 'Cape Verde', 'Cayman Isl. (UK)', 'Sri Lanka',\n",
    "       'Easter Isl. (Chile)', 'Desventuradas Isl. (Chile)',\n",
    "       'Juan Fernandez Islands (Chile)', 'China', 'Taiwan',\n",
    "       'Christmas Isl. (Australia)', 'Cocos (Keeling) Isl. (Australia)',\n",
    "       'Comoros Isl.', 'Mayotte (France)', 'Congo, R. of',\n",
    "       'Congo (ex-Zaire)', 'Cook Islands', 'Croatia', 'Cuba',\n",
    "       'Cyprus (North)', 'Cyprus (South)', 'Benin', 'Dominica',\n",
    "       'Dominican Republic', 'Ecuador', 'Galapagos Isl. (Ecuador)',\n",
    "       'El Salvador', 'Equatorial Guinea', 'Estonia',\n",
    "       'Faeroe Isl. (Denmark)', 'Falkland Isl. (UK)',\n",
    "       'South Georgia & Sandwich Isl. (UK)', 'Fiji',\n",
    "       'Mozambique Channel Isl. (France)', 'Tromelin Isl. (France)',\n",
    "       'French Guiana', 'French Polynesia', 'Djibouti', 'Gabon',\n",
    "       'Georgia', 'Gambia', 'Gaza Strip', 'Germany (North Sea)',\n",
    "       'Germany (Baltic Sea)', 'Ghana', 'Greece', 'Greenland', 'Grenada',\n",
    "       'Guam (USA)', 'Guinea', 'Guyana', 'Haiti',\n",
    "       'Heard & McDonald Isl. (Australia)', 'Hong Kong (China)',\n",
    "       'Iceland', 'India (mainland)', 'Andaman & Nicobar Isl. (India)',\n",
    "       'Iraq', 'Italy', \"CÃ´te d'Ivoire\", 'Jamaica',\n",
    "       'Japan (main islands)', 'Japan (Daito Islands)',\n",
    "       'Johnston Atoll (USA)', 'Kenya', 'Korea (North)', 'Korea (South)',\n",
    "       'Kuwait', 'Lebanon', 'Latvia', 'Liberia', 'Libya', 'Lithuania',\n",
    "       'Madagascar', 'Malaysia (Peninsula West)',\n",
    "       'Malaysia (Peninsula East)', 'Malaysia (Sabah)', 'Maldives',\n",
    "       'Malaysia (Sarawak)', 'Malta', 'Martinique (France)', 'Mauritania',\n",
    "       'Mauritius', 'Hawaii Northwest Islands (USA)', 'Montserrat (UK)',\n",
    "       'Mozambique', 'Oman', 'Namibia', 'Nauru', 'Netherlands',\n",
    "       'New Caledonia (France)', 'Vanuatu', 'New Zealand',\n",
    "       'Kermadec Isl. (New Zealand)', 'Nigeria', 'Niue (New Zealand)',\n",
    "       'Norfolk Isl. (Australia)', 'Norway', 'Jan Mayen Isl. (Norway)',\n",
    "       'Northern Marianas (USA)', 'Micronesia (Federated States of)',\n",
    "       'Marshall Isl.', 'Pakistan', 'Papua New Guinea', 'Peru',\n",
    "       'Philippines', 'Pitcairn (UK)', 'Poland', 'Portugal',\n",
    "       'Madeira Isl. (Portugal)', 'Azores Isl. (Portugal)',\n",
    "       'Guinea-Bissau', 'Timor Leste', 'Puerto Rico (USA)', 'Qatar',\n",
    "       'RÃ©union (France)', 'Romania', 'Russia (Black Sea)',\n",
    "       'Russia (Baltic Sea)', 'Russia (Far East)', 'Saint Helena (UK)',\n",
    "       'Saint Kitts & Nevis', 'Anguilla (UK)', 'Saint Lucia',\n",
    "       'Saint Pierre & Miquelon (France)',\n",
    "       'Saint Vincent & the Grenadines', 'Sao Tome & Principe',\n",
    "       'Saudi Arabia (Red Sea)', 'Saudi Arabia (Persian Gulf)', 'Senegal',\n",
    "       'Seychelles', 'Sierra Leone', 'Singapore', 'Vietnam', 'Slovenia',\n",
    "       'Somalia', 'Canary Isl. (Spain)', 'Sudan', 'Suriname',\n",
    "       'Svalbard Isl. (Norway)', 'Syria', 'Togo', 'Tokelau (New Zealand)',\n",
    "       'Tonga', 'Trinidad & Tobago', 'United Arab Emirates', 'Tunisia',\n",
    "       'Turkey (Mediterranean Sea)', 'Turkey (Black Sea)',\n",
    "       'Turks & Caicos Isl. (UK)', 'Tuvalu', 'Ukraine',\n",
    "       'Channel Isl. (UK)', 'Tanzania', 'Hawaii Main Islands (USA)',\n",
    "       'Palmyra Atoll & Kingman Reef (USA)', 'Jarvis Isl. (USA)',\n",
    "       'Howland & Baker Isl. (USA)', 'US Virgin Islands',\n",
    "       'Ascension Isl. (UK)', 'Tristan da Cunha Isl. (UK)', 'Uruguay',\n",
    "       'Venezuela', 'Wake Isl. (USA)', 'Wallis & Futuna Isl. (France)',\n",
    "       'Samoa', 'Montenegro', 'St Paul & Amsterdam Isl. (France)',\n",
    "       'Crozet Isl. (France)', 'Kerguelen Isl. (France)',\n",
    "       'Clipperton Isl.  (France)', 'Corsica (France)', 'Crete (Greece)',\n",
    "       'Sicily (Italy)', 'Sardinia (Italy)', 'Balearic Island (Spain)',\n",
    "       'Bonaire (Netherlands)', 'Saba & Sint Eustaius (Netherlands)',\n",
    "       'Sint Maarten (Netherlands)', 'South Orkney Islands (UK)',\n",
    "       'Oman (Musandam)', 'Russia (Kara Sea)', 'Sweden (Baltic)',\n",
    "       'Sweden (West Coast)', 'Yemen (Red Sea)', 'Yemen (Arabian Sea)',\n",
    "       'France (Mediterranean)', 'France (Atlantic Coast)',\n",
    "       'Honduras (Pacific)', 'Honduras (Caribbean)',\n",
    "       'Iran (Persian Gulf)', 'Iran (Sea of Oman)', 'Canada (East Coast)',\n",
    "       'Colombia (Caribbean)', 'Colombia (Pacific)',\n",
    "       'Costa Rica (Caribbean)', 'Costa Rica (Pacific)',\n",
    "       'Denmark (North Sea)', 'Egypt (Mediterranean)', 'Egypt (Red Sea)',\n",
    "       'Guatemala (Caribbean)', 'Guatemala (Pacific)',\n",
    "       'Indonesia (Indian Ocean)', 'Israel (Mediterranean)',\n",
    "       'Kiribati (Gilbert Islands)', 'Kiribati (Line Islands)',\n",
    "       'Kiribati (Phoenix Islands)', 'Mexico (Atlantic)',\n",
    "       'Mexico (Pacific)', 'Morocco (Central)', 'Morocco (Mediterranean)',\n",
    "       'Morocco (South)', 'Nicaragua (Caribbean)', 'Nicaragua (Pacific)',\n",
    "       'Panama (Caribbean)', 'Panama (Pacific)',\n",
    "       'South Africa (Atlantic Coast)',\n",
    "       'South Africa (Indian Ocean Coast)',\n",
    "       'South Africa (Prince Edward Islands)', 'Thailand (Andaman Sea)',\n",
    "       'Thailand (Gulf of Thailand)', 'USA (Alaska, Subarctic)',\n",
    "       'Spain (Mediterranean and Gulf of Cadiz)', 'Spain (Northwest)',\n",
    "       'Turkey (Marmara Sea)', 'Aruba (Netherlands)',\n",
    "       'United Arab Emirates (Fujairah)', 'Brazil (Fernando de Noronha)',\n",
    "       'Brazil (St Paul and St. Peter Archipelago)',\n",
    "       'Japan (Ogasawara Islands)', 'Glorieuse Islands (France)',\n",
    "       'CuraÃ§ao (Netherlands)', 'Saint Martin (France)',\n",
    "       'St Barthelemy (France)', 'Guadeloupe (France)',\n",
    "       'USA (Alaska, Arctic)', 'Jordan', 'Israel (Red Sea)',\n",
    "       'Canada (Pacific)', 'Canada (Arctic)', 'Russia (Barents Sea)',\n",
    "       'Denmark (Baltic Sea)', 'Solomon Isl.', 'Palau', 'Finland',\n",
    "       'United Kingdom', 'Indonesia (Eastern)', 'Indonesia (Central)',\n",
    "       'Chile', 'Ireland', 'USA (West Coast)', 'USA (Gulf of Mexico)',\n",
    "       'USA (East Coast)', 'Russia (Laptev to Chukchi Sea)'])"
   ]
  },
  {
   "cell_type": "code",
   "execution_count": 42,
   "metadata": {},
   "outputs": [
    {
     "data": {
      "text/plain": [
       "array(['Albania', 'Algeria', 'American_Samoa',\n",
       "       'Andaman_&_Nicobar_Isl_(India)', 'Angola', 'Anguilla_(UK)',\n",
       "       'Antigua_&_Barbuda', 'Argentina', 'Aruba_(Netherlands)',\n",
       "       'Ascension_Isl_(UK)', 'Australia', 'Azores_Isl_(Portugal)',\n",
       "       'Bahamas', 'Bahrain', 'Balearic_Island_(Spain)', 'Bangladesh',\n",
       "       'Barbados', 'Belgium', 'Belize', 'Benin', 'Bermuda_(UK)',\n",
       "       'Bonaire_(Netherlands)', 'Bosnia_&_Herzegovina',\n",
       "       'Bouvet_Isl_(Norway)', 'Brazil_(mainland)',\n",
       "       'British_Virgin_Isl_(UK)', 'Brunei_Darussalam', 'Bulgaria',\n",
       "       'Cambodia', 'Cameroon', 'Canada_(Arctic)', 'Canada_(East_Coast)',\n",
       "       'Canada_(Pacific)', 'Canary_Isl_(Spain)', 'Cape_Verde',\n",
       "       'Cayman_Isl_(UK)', 'Chagos_Archipelago_(UK)', 'Channel_Isl_(UK)',\n",
       "       'Chile_(mainland)', 'China', 'Christmas_Isl_(Australia)',\n",
       "       'Clipperton_Isl_(France)', 'Cocos_(Keeling)_Isl_(Australia)',\n",
       "       'Colombia_(Caribbean)', 'Colombia_(Pacific)', 'Comoros_Isl',\n",
       "       'Congo_(ex-Zaire)', 'Congo_R_of', 'Cook_Islands',\n",
       "       'Corsica_(France)', 'Costa_Rica_(Caribbean)',\n",
       "       'Costa_Rica_(Pacific)', \"Cote_d'Ivoire\", 'Crete_(Greece)',\n",
       "       'Croatia', 'Crozet_Isl_(France)', 'Cuba', 'Curacao_(Netherlands)',\n",
       "       'Cyprus_(North)', 'Cyprus_(South)', 'Denmark_(Baltic_Sea)',\n",
       "       'Denmark_(North_Sea)', 'Desventuradas_Isl_(Chile)', 'Djibouti',\n",
       "       'Dominica', 'Dominican_Republic', 'Easter_Isl_(Chile)',\n",
       "       'Ecuador_(mainland)', 'Egypt_(Mediterranean)', 'Egypt_(Red_Sea)',\n",
       "       'El_Salvador', 'Equatorial_Guinea', 'Eritrea', 'Estonia',\n",
       "       'Faeroe_Isl_(Denmark)', 'Falkland_Isl_(UK)',\n",
       "       'Fernando_de_Noronha_(Brazil)', 'Fiji', 'Finland',\n",
       "       'France_(Atlantic_Coast)', 'France_(Mediterranean)',\n",
       "       'French_Guiana', 'French_Polynesia', 'Gabon',\n",
       "       'Galapagos_Isl_(Ecuador)', 'Gambia', 'Gaza_Strip', 'Georgia',\n",
       "       'Germany_(Baltic_Sea)', 'Germany_(North_Sea)', 'Ghana',\n",
       "       'Glorieuse_Islands_(France)', 'Greece_(without_Crete)',\n",
       "       'Greenland_(Denmark)', 'Grenada', 'Guadeloupe__(France)',\n",
       "       'Guam_(USA)', 'Guatemala_(Caribbean)', 'Guatemala_(Pacific)',\n",
       "       'Guinea', 'Guinea-Bissau', 'Guyana', 'Haiti',\n",
       "       'Hawaii_Main_Islands_(USA)', 'Hawaii_Northwest_Islands_(USA)',\n",
       "       'Heard_&_McDonald_Isl_(Australia)', 'Honduras_(Caribbean)',\n",
       "       'Honduras_(Pacific)', 'Hong_Kong_(China)',\n",
       "       'Howland_&_Baker_Isl_(USA)', 'Iceland', 'India_(mainland)',\n",
       "       'Indonesia_(Central)', 'Indonesia_(Eastern)',\n",
       "       'Indonesia_(Indian_Ocean)', 'Iran_(Persian_Gulf)',\n",
       "       'Iran_(Sea_of_Oman)', 'Iraq', 'Ireland', 'Israel_(Mediterranean)',\n",
       "       'Israel_(Red_Sea)', 'Italy_(mainland)', 'Jamaica',\n",
       "       'Jan_Mayen_Isl_(Norway)', 'Japan_(Daito_Islands)',\n",
       "       'Japan_(Ogasawara_Islands)', 'Japan_(main_islands)',\n",
       "       'Jarvis_Isl_(USA)', 'Johnston_Atoll_(USA)', 'Jordan',\n",
       "       'Juan_Fernandez_Islands_(Chile)', 'Kenya',\n",
       "       'Kerguelen_Isl_(France)', 'Kermadec_Isl_(New_Zealand)',\n",
       "       'Kiribati_(Gilbert_Islands)', 'Kiribati_(Line_Islands)',\n",
       "       'Kiribati_(Phoenix_Islands)', 'Korea_(North)', 'Korea_(South)',\n",
       "       'Kuwait', 'Latvia', 'Lebanon', 'Liberia', 'Libya', 'Lithuania',\n",
       "       'Lord_Howe_Isl_(Australia)', 'Macquarie_Isl_(Australia)',\n",
       "       'Madagascar', 'Madeira_Isl_(Portugal)',\n",
       "       'Malaysia_(Peninsula_East)', 'Malaysia_(Peninsula_West)',\n",
       "       'Malaysia_(Sabah)', 'Malaysia_(Sarawak)', 'Maldives', 'Malta',\n",
       "       'Marshall_Isl', 'Martinique_(France)', 'Mauritania', 'Mauritius',\n",
       "       'Mayotte_(France)', 'Mexico_(Atlantic)', 'Mexico_(Pacific)',\n",
       "       'Micronesia_(Federated_States_of)', 'Montenegro',\n",
       "       'Montserrat_(UK)', 'Morocco_(Central)', 'Morocco_(Mediterranean)',\n",
       "       'Morocco_(South)', 'Mozambique', 'Mozambique_Channel_Isl_(France)',\n",
       "       'Myanmar', 'Namibia', 'Nauru', 'Netherlands',\n",
       "       'New_Caledonia_(France)', 'New_Zealand', 'Nicaragua_(Caribbean)',\n",
       "       'Nicaragua_(Pacific)', 'Nigeria', 'Niue_(New_Zealand)',\n",
       "       'Norfolk_Isl_(Australia)', 'Northern_Marianas_(USA)', 'Norway',\n",
       "       'Oman', 'Oman_(Musandam)', 'Pakistan', 'Palau',\n",
       "       'Palmyra_Atoll_&_Kingman_Reef_(USA)', 'Panama_(Caribbean)',\n",
       "       'Panama_(Pacific)', 'Papua_New_Guinea', 'Peru', 'Philippines',\n",
       "       'Pitcairn_(UK)', 'Poland', 'Portugal_(mainland)',\n",
       "       'Prince_Edward_Isl_(South_Africa)', 'Puerto_Rico_(USA)', 'Qatar',\n",
       "       'Reunion_(France)', 'Romania', 'Russia_(Baltic_Sea)',\n",
       "       'Russia_(Barents_Sea)', 'Russia_(Black_Sea)', 'Russia_(Far_East)',\n",
       "       'Russia_(Kara_Sea)', 'Russia_(Laptev_to_Chukchi_Sea)',\n",
       "       'Saba_and_Sint_Eustaius_(Netherlands)', 'Saint_Helena_(UK)',\n",
       "       'Saint_Kitts_&_Nevis', 'Saint_Lucia',\n",
       "       'Saint_Pierre_&_Miquelon_(France)',\n",
       "       'Saint_Vincent_&_the_Grenadines', 'Samoa', 'Sao_Tome_&_Principe',\n",
       "       'Sardinia_(Italy)', 'Saudi_Arabia_(Persian_Gulf)',\n",
       "       'Saudi_Arabia_(Red_Sea)', 'Senegal', 'Seychelles',\n",
       "       'Sicily_(Italy)', 'Sierra_Leone', 'Singapore',\n",
       "       'Sint_Maarten_(Netherlands)', 'Slovenia', 'Solomon_Isl', 'Somalia',\n",
       "       'South_Africa_(Atlantic_and_Cape)',\n",
       "       'South_Africa_(Indian_Ocean_Coast)',\n",
       "       'South_Georgia_&_Sandwich_Isl_(UK)', 'South_Orkney_Islands_(UK)',\n",
       "       'Spain_(Northwest)', 'Spain_(mainland_Med_and_Gulf_of_Cadiz)',\n",
       "       'Sri_Lanka', 'St_Barthelemy_(France)', 'St_Martin_(France)',\n",
       "       'St_Paul_&_Amsterdam_Isl_(France)',\n",
       "       'St_Paul_and_St_Peter_Archipelago_(Brazil)', 'Sudan', 'Suriname',\n",
       "       'Svalbard_Isl_(Norway)', 'Sweden_(Baltic)', 'Sweden_(West_Coast)',\n",
       "       'Syria', 'Taiwan', 'Tanzania', 'Thailand_(Andaman_Sea)',\n",
       "       'Thailand_(Gulf_of_Thailand)', 'Timor_Leste', 'Togo',\n",
       "       'Tokelau_(New_Zealand)', 'Tonga',\n",
       "       'Trindade_&_Martim_Vaz_Isl_(Brazil)', 'Trinidad_&_Tobago',\n",
       "       'Tristan_da_Cunha_Isl_(UK)', 'Tromelin_Isl_(France)', 'Tunisia',\n",
       "       'Turkey_(Black_Sea)', 'Turkey_(Marmara_Sea)',\n",
       "       'Turkey_(Mediterranean_Sea)', 'Turks_&_Caicos_Isl_(UK)', 'Tuvalu',\n",
       "       'USA_(Alaska_Arctic)', 'USA_(Alaska_Subarctic)',\n",
       "       'USA_(East_Coast)', 'USA_(Gulf_of_Mexico)', 'USA_(West_Coast)',\n",
       "       'US_Virgin_Isl', 'Ukraine', 'United_Arab_Emirates',\n",
       "       'United_Arab_Emirates_(Fujairah)', 'United_Kingdom_(UK)',\n",
       "       'Uruguay', 'Vanuatu', 'Venezuela', 'Viet_Nam', 'Wake_Isl_(USA)',\n",
       "       'Wallis_&_Futuna_Isl_(France)', 'Yemen_(Arabian_Sea)',\n",
       "       'Yemen_(Red_Sea)'], dtype=object)"
      ]
     },
     "execution_count": 42,
     "metadata": {},
     "output_type": "execute_result"
    }
   ],
   "source": [
    "out.index.values"
   ]
  },
  {
   "cell_type": "code",
   "execution_count": 43,
   "metadata": {},
   "outputs": [],
   "source": [
    "out.to_csv(\"SAU_nutrient_projections_by_EEZ_reported_unreported.csv\")"
   ]
  },
  {
   "cell_type": "code",
   "execution_count": 44,
   "metadata": {},
   "outputs": [
    {
     "data": {
      "text/html": [
       "<div>\n",
       "<style scoped>\n",
       "    .dataframe tbody tr th:only-of-type {\n",
       "        vertical-align: middle;\n",
       "    }\n",
       "\n",
       "    .dataframe tbody tr th {\n",
       "        vertical-align: top;\n",
       "    }\n",
       "\n",
       "    .dataframe thead th {\n",
       "        text-align: right;\n",
       "    }\n",
       "</style>\n",
       "<table border=\"1\" class=\"dataframe\">\n",
       "  <thead>\n",
       "    <tr style=\"text-align: right;\">\n",
       "      <th></th>\n",
       "      <th>Protein_mu</th>\n",
       "      <th>Zinc_mu</th>\n",
       "      <th>Iron_mu</th>\n",
       "      <th>Calcium_mu</th>\n",
       "      <th>Omega3_mu</th>\n",
       "      <th>Vitamin_A_mu</th>\n",
       "      <th>Selenium_mu</th>\n",
       "    </tr>\n",
       "    <tr>\n",
       "      <th>EEZ</th>\n",
       "      <th></th>\n",
       "      <th></th>\n",
       "      <th></th>\n",
       "      <th></th>\n",
       "      <th></th>\n",
       "      <th></th>\n",
       "      <th></th>\n",
       "    </tr>\n",
       "  </thead>\n",
       "  <tbody>\n",
       "    <tr>\n",
       "      <th>Albania</th>\n",
       "      <td>20.237088</td>\n",
       "      <td>0.989376</td>\n",
       "      <td>1.977075</td>\n",
       "      <td>135.035620</td>\n",
       "      <td>0.354614</td>\n",
       "      <td>26.828790</td>\n",
       "      <td>11.728267</td>\n",
       "    </tr>\n",
       "    <tr>\n",
       "      <th>Algeria</th>\n",
       "      <td>20.015903</td>\n",
       "      <td>1.163892</td>\n",
       "      <td>2.148592</td>\n",
       "      <td>160.562508</td>\n",
       "      <td>0.307972</td>\n",
       "      <td>27.750090</td>\n",
       "      <td>12.432795</td>\n",
       "    </tr>\n",
       "    <tr>\n",
       "      <th>American_Samoa</th>\n",
       "      <td>22.296031</td>\n",
       "      <td>0.720899</td>\n",
       "      <td>1.365986</td>\n",
       "      <td>63.001625</td>\n",
       "      <td>0.038725</td>\n",
       "      <td>5.493692</td>\n",
       "      <td>15.737362</td>\n",
       "    </tr>\n",
       "    <tr>\n",
       "      <th>Andaman_&amp;_Nicobar_Isl_(India)</th>\n",
       "      <td>20.782494</td>\n",
       "      <td>1.243658</td>\n",
       "      <td>2.529065</td>\n",
       "      <td>75.303924</td>\n",
       "      <td>0.041174</td>\n",
       "      <td>16.340851</td>\n",
       "      <td>5.948449</td>\n",
       "    </tr>\n",
       "    <tr>\n",
       "      <th>Angola</th>\n",
       "      <td>19.364734</td>\n",
       "      <td>1.774958</td>\n",
       "      <td>2.425857</td>\n",
       "      <td>130.886521</td>\n",
       "      <td>0.218339</td>\n",
       "      <td>35.719790</td>\n",
       "      <td>7.460908</td>\n",
       "    </tr>\n",
       "  </tbody>\n",
       "</table>\n",
       "</div>"
      ],
      "text/plain": [
       "                               Protein_mu   Zinc_mu   Iron_mu  Calcium_mu  \\\n",
       "EEZ                                                                         \n",
       "Albania                         20.237088  0.989376  1.977075  135.035620   \n",
       "Algeria                         20.015903  1.163892  2.148592  160.562508   \n",
       "American_Samoa                  22.296031  0.720899  1.365986   63.001625   \n",
       "Andaman_&_Nicobar_Isl_(India)   20.782494  1.243658  2.529065   75.303924   \n",
       "Angola                          19.364734  1.774958  2.425857  130.886521   \n",
       "\n",
       "                               Omega3_mu  Vitamin_A_mu  Selenium_mu  \n",
       "EEZ                                                                  \n",
       "Albania                         0.354614     26.828790    11.728267  \n",
       "Algeria                         0.307972     27.750090    12.432795  \n",
       "American_Samoa                  0.038725      5.493692    15.737362  \n",
       "Andaman_&_Nicobar_Isl_(India)   0.041174     16.340851     5.948449  \n",
       "Angola                          0.218339     35.719790     7.460908  "
      ]
     },
     "execution_count": 44,
     "metadata": {},
     "output_type": "execute_result"
    }
   ],
   "source": [
    "out.head()"
   ]
  },
  {
   "cell_type": "code",
   "execution_count": 45,
   "metadata": {},
   "outputs": [
    {
     "data": {
      "text/html": [
       "<div>\n",
       "<style scoped>\n",
       "    .dataframe tbody tr th:only-of-type {\n",
       "        vertical-align: middle;\n",
       "    }\n",
       "\n",
       "    .dataframe tbody tr th {\n",
       "        vertical-align: top;\n",
       "    }\n",
       "\n",
       "    .dataframe thead th {\n",
       "        text-align: right;\n",
       "    }\n",
       "</style>\n",
       "<table border=\"1\" class=\"dataframe\">\n",
       "  <thead>\n",
       "    <tr style=\"text-align: right;\">\n",
       "      <th></th>\n",
       "      <th>Protein_mu</th>\n",
       "      <th>Zinc_mu</th>\n",
       "      <th>Iron_mu</th>\n",
       "      <th>Calcium_mu</th>\n",
       "      <th>Omega3_mu</th>\n",
       "      <th>Vitamin_A_mu</th>\n",
       "      <th>Selenium_mu</th>\n",
       "    </tr>\n",
       "    <tr>\n",
       "      <th>EEZ</th>\n",
       "      <th></th>\n",
       "      <th></th>\n",
       "      <th></th>\n",
       "      <th></th>\n",
       "      <th></th>\n",
       "      <th></th>\n",
       "      <th></th>\n",
       "    </tr>\n",
       "  </thead>\n",
       "  <tbody>\n",
       "    <tr>\n",
       "      <th>Viet_Nam</th>\n",
       "      <td>19.603724</td>\n",
       "      <td>1.282415</td>\n",
       "      <td>1.748913</td>\n",
       "      <td>135.236830</td>\n",
       "      <td>0.126204</td>\n",
       "      <td>12.661200</td>\n",
       "      <td>6.504238</td>\n",
       "    </tr>\n",
       "    <tr>\n",
       "      <th>Wake_Isl_(USA)</th>\n",
       "      <td>21.843811</td>\n",
       "      <td>0.567322</td>\n",
       "      <td>1.309327</td>\n",
       "      <td>120.902975</td>\n",
       "      <td>0.020825</td>\n",
       "      <td>11.309969</td>\n",
       "      <td>12.883670</td>\n",
       "    </tr>\n",
       "    <tr>\n",
       "      <th>Wallis_&amp;_Futuna_Isl_(France)</th>\n",
       "      <td>20.719808</td>\n",
       "      <td>0.742340</td>\n",
       "      <td>1.534334</td>\n",
       "      <td>179.175455</td>\n",
       "      <td>0.025193</td>\n",
       "      <td>24.620119</td>\n",
       "      <td>7.864035</td>\n",
       "    </tr>\n",
       "    <tr>\n",
       "      <th>Yemen_(Arabian_Sea)</th>\n",
       "      <td>19.774235</td>\n",
       "      <td>2.010963</td>\n",
       "      <td>3.524668</td>\n",
       "      <td>68.346915</td>\n",
       "      <td>0.034882</td>\n",
       "      <td>41.578818</td>\n",
       "      <td>2.317768</td>\n",
       "    </tr>\n",
       "    <tr>\n",
       "      <th>Yemen_(Red_Sea)</th>\n",
       "      <td>19.781843</td>\n",
       "      <td>1.359606</td>\n",
       "      <td>2.568446</td>\n",
       "      <td>168.560229</td>\n",
       "      <td>0.086287</td>\n",
       "      <td>26.576209</td>\n",
       "      <td>4.715140</td>\n",
       "    </tr>\n",
       "  </tbody>\n",
       "</table>\n",
       "</div>"
      ],
      "text/plain": [
       "                              Protein_mu   Zinc_mu   Iron_mu  Calcium_mu  \\\n",
       "EEZ                                                                        \n",
       "Viet_Nam                       19.603724  1.282415  1.748913  135.236830   \n",
       "Wake_Isl_(USA)                 21.843811  0.567322  1.309327  120.902975   \n",
       "Wallis_&_Futuna_Isl_(France)   20.719808  0.742340  1.534334  179.175455   \n",
       "Yemen_(Arabian_Sea)            19.774235  2.010963  3.524668   68.346915   \n",
       "Yemen_(Red_Sea)                19.781843  1.359606  2.568446  168.560229   \n",
       "\n",
       "                              Omega3_mu  Vitamin_A_mu  Selenium_mu  \n",
       "EEZ                                                                 \n",
       "Viet_Nam                       0.126204     12.661200     6.504238  \n",
       "Wake_Isl_(USA)                 0.020825     11.309969    12.883670  \n",
       "Wallis_&_Futuna_Isl_(France)   0.025193     24.620119     7.864035  \n",
       "Yemen_(Arabian_Sea)            0.034882     41.578818     2.317768  \n",
       "Yemen_(Red_Sea)                0.086287     26.576209     4.715140  "
      ]
     },
     "execution_count": 45,
     "metadata": {},
     "output_type": "execute_result"
    }
   ],
   "source": [
    "out.tail()"
   ]
  }
 ],
 "metadata": {
  "kernelspec": {
   "display_name": "Python 3",
   "language": "python",
   "name": "python3"
  },
  "language_info": {
   "codemirror_mode": {
    "name": "ipython",
    "version": 3
   },
   "file_extension": ".py",
   "mimetype": "text/x-python",
   "name": "python",
   "nbconvert_exporter": "python",
   "pygments_lexer": "ipython3",
   "version": "3.7.1"
  }
 },
 "nbformat": 4,
 "nbformat_minor": 2
}

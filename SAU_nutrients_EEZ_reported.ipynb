{
 "cells": [
  {
   "cell_type": "markdown",
   "metadata": {},
   "source": [
    "# Model-based estimated fisheries nutrition by EEZ - reported only"
   ]
  },
  {
   "cell_type": "code",
   "execution_count": 1,
   "metadata": {},
   "outputs": [],
   "source": [
    "# Import python packages\n",
    "%matplotlib inline\n",
    "import pandas as pd\n",
    "import numpy as np\n",
    "import matplotlib.pyplot as plt\n",
    "import matplotlib as mp\n",
    "import pymc3 as pm\n",
    "import theano as T\n",
    "import theano.tensor as tt\n",
    "import seaborn as sns\n",
    "import scipy as sp\n",
    "import pdb\n",
    "import os as os\n",
    "\n",
    "# Helper functions\n",
    "def indexall(L):\n",
    "    poo = []\n",
    "    for p in L:\n",
    "        if not p in poo:\n",
    "            poo.append(p)\n",
    "    Ix = np.array([poo.index(p) for p in L])\n",
    "    return poo,Ix\n",
    "\n",
    "def subindexall(short,long):\n",
    "    poo = []\n",
    "    out = []\n",
    "    for s,l in zip(short,long):\n",
    "        if not l in poo:\n",
    "            poo.append(l)\n",
    "            out.append(s)\n",
    "    return indexall(out)\n",
    "\n",
    "match = lambda a, b: np.array([ b.index(x) if x in b else None for x in a ])\n",
    "grep = lambda s, l: np.array([i for i in l if s in i])\n",
    "\n",
    "# Function to standardize covariates\n",
    "def stdize(x):\n",
    "    return (x-np.mean(x))/(2*np.std(x))\n",
    "\n",
    "def spanzero(pair):\n",
    "    out = True\n",
    "    if all(pair<0) or all(pair>0):\n",
    "        out = False\n",
    "    return out"
   ]
  },
  {
   "cell_type": "markdown",
   "metadata": {},
   "source": [
    "## Import data sources"
   ]
  },
  {
   "cell_type": "code",
   "execution_count": 2,
   "metadata": {},
   "outputs": [],
   "source": [
    "# Nutritional data\n",
    "ndata = pd.read_excel('Nutrient_data.xlsx')\n",
    "# Traits data\n",
    "tdata = pd.read_csv('Traits_data.csv')\n",
    "# Sea Around Us data\n",
    "sdata = pd.read_csv('Reported_EEZ.csv')"
   ]
  },
  {
   "cell_type": "code",
   "execution_count": 3,
   "metadata": {},
   "outputs": [
    {
     "data": {
      "text/plain": [
       "274"
      ]
     },
     "execution_count": 3,
     "metadata": {},
     "output_type": "execute_result"
    }
   ],
   "source": [
    "len(sdata.EEZ.unique())"
   ]
  },
  {
   "cell_type": "code",
   "execution_count": 4,
   "metadata": {},
   "outputs": [],
   "source": [
    "dfa = pd.get_dummies(tdata[['DemersPelag', 'EnvTemp',\n",
    "       'DepthRangeDeep', 'trophic_level', 'Feeding_path', 'LMax',\n",
    "       'BodyShapeI', 'K', 'tm', 'DemersPelagLevel', 'EnvTempLevel',\n",
    "       'DepthRangeDeepLevel', 'trophic_levelLevel', 'Feeding_pathLevel',\n",
    "       'LMaxLevel', 'BodyShapeILevel', 'KLevel', 'tmLevel']])\n",
    "trait_corr = dfa.corr()\n",
    "#trait_corr"
   ]
  },
  {
   "cell_type": "code",
   "execution_count": 5,
   "metadata": {},
   "outputs": [],
   "source": [
    "trait_corr.to_csv('trait_correlations.csv')"
   ]
  },
  {
   "cell_type": "code",
   "execution_count": 6,
   "metadata": {},
   "outputs": [],
   "source": [
    "## Get proportion of total catch per species per EEZ\n",
    "\n",
    "# National total catch\n",
    "tmp_nations,It = indexall(sdata.EEZ.values)\n",
    "sdata['prop_catch'] = sdata.annual_tonnage.values/np.array([sum(sdata.annual_tonnage.values[sdata.EEZ.values==c]) for c in tmp_nations])[It]"
   ]
  },
  {
   "cell_type": "code",
   "execution_count": 7,
   "metadata": {},
   "outputs": [],
   "source": [
    "# Add traits information to nutritional dataframe\n",
    "indx = match(ndata.Species_from_search.unique(),list(tdata.species_traits_all.values))\n",
    "rindx = match(ndata.Species_from_search,list(ndata.Species_from_search.unique()))\n",
    "\n",
    "# Traits to port over\n",
    "tmp = ['Class', 'Order', 'Family','Genus_1', 'DemersPelag',\n",
    "       'EnvTemp', 'DepthRangeDeep', 'trophic_level', 'Feeding_path', 'LMax',\n",
    "       'BodyShapeI', 'K', 'tm']\n",
    "# Port over\n",
    "for trait in tmp:\n",
    "    ndata[trait] = tdata[trait].values[indx][rindx]"
   ]
  },
  {
   "cell_type": "code",
   "execution_count": 8,
   "metadata": {},
   "outputs": [],
   "source": [
    "# Add traits information to sau dataframe\n",
    "indx = match(sdata.species.unique(),list(tdata.species_traits_all.values))\n",
    "rindx = match(sdata.species,list(sdata.species.unique()))\n",
    "\n",
    "# Traits to port over\n",
    "tmp = ['Class', 'Order', 'Family','Genus_1', 'DemersPelag',\n",
    "       'EnvTemp', 'DepthRangeDeep', 'trophic_level', 'Feeding_path', 'LMax',\n",
    "       'BodyShapeI', 'K', 'tm']\n",
    "# Port over\n",
    "for trait in tmp:\n",
    "    sdata[trait] = tdata[trait].values[indx][rindx]"
   ]
  },
  {
   "cell_type": "code",
   "execution_count": 9,
   "metadata": {},
   "outputs": [
    {
     "data": {
      "text/plain": [
       "274"
      ]
     },
     "execution_count": 9,
     "metadata": {},
     "output_type": "execute_result"
    }
   ],
   "source": [
    "len(sdata.EEZ.unique())"
   ]
  },
  {
   "cell_type": "code",
   "execution_count": 10,
   "metadata": {},
   "outputs": [],
   "source": [
    "# Remove SAU rows with -999\n",
    "mdata = sdata.loc[sdata.K==-999,]\n",
    "sdata = sdata.loc[sdata.K!=-999,]"
   ]
  },
  {
   "cell_type": "code",
   "execution_count": 11,
   "metadata": {},
   "outputs": [
    {
     "data": {
      "text/html": [
       "<div>\n",
       "<style scoped>\n",
       "    .dataframe tbody tr th:only-of-type {\n",
       "        vertical-align: middle;\n",
       "    }\n",
       "\n",
       "    .dataframe tbody tr th {\n",
       "        vertical-align: top;\n",
       "    }\n",
       "\n",
       "    .dataframe thead th {\n",
       "        text-align: right;\n",
       "    }\n",
       "</style>\n",
       "<table border=\"1\" class=\"dataframe\">\n",
       "  <thead>\n",
       "    <tr style=\"text-align: right;\">\n",
       "      <th></th>\n",
       "      <th>EEZ</th>\n",
       "      <th>species</th>\n",
       "      <th>5yr_catch_tonnage</th>\n",
       "      <th>annual_tonnage</th>\n",
       "      <th>prop_catch</th>\n",
       "      <th>Class</th>\n",
       "      <th>Order</th>\n",
       "      <th>Family</th>\n",
       "      <th>Genus_1</th>\n",
       "      <th>DemersPelag</th>\n",
       "      <th>EnvTemp</th>\n",
       "      <th>DepthRangeDeep</th>\n",
       "      <th>trophic_level</th>\n",
       "      <th>Feeding_path</th>\n",
       "      <th>LMax</th>\n",
       "      <th>BodyShapeI</th>\n",
       "      <th>K</th>\n",
       "      <th>tm</th>\n",
       "    </tr>\n",
       "  </thead>\n",
       "  <tbody>\n",
       "  </tbody>\n",
       "</table>\n",
       "</div>"
      ],
      "text/plain": [
       "Empty DataFrame\n",
       "Columns: [EEZ, species, 5yr_catch_tonnage, annual_tonnage, prop_catch, Class, Order, Family, Genus_1, DemersPelag, EnvTemp, DepthRangeDeep, trophic_level, Feeding_path, LMax, BodyShapeI, K, tm]\n",
       "Index: []"
      ]
     },
     "execution_count": 11,
     "metadata": {},
     "output_type": "execute_result"
    }
   ],
   "source": [
    "# Check there's nothing missing\n",
    "mdata"
   ]
  },
  {
   "cell_type": "code",
   "execution_count": 12,
   "metadata": {},
   "outputs": [
    {
     "data": {
      "text/plain": [
       "274"
      ]
     },
     "execution_count": 12,
     "metadata": {},
     "output_type": "execute_result"
    }
   ],
   "source": [
    "len(sdata.EEZ.unique())"
   ]
  },
  {
   "cell_type": "code",
   "execution_count": 13,
   "metadata": {},
   "outputs": [],
   "source": [
    "Nutrients = ['Protein', 'Zinc', 'Iron', 'Calcium', 'Omega3', 'Vitamin_A', 'Selenium']\n",
    "Nkeys = ['Protein_Value_perc', 'Zn_Value', 'Fe_Value', 'Ca_Value', 'O3_Value', 'VitA_Value', 'Se_Value']\n",
    "nnutrients = len(Nutrients)"
   ]
  },
  {
   "cell_type": "markdown",
   "metadata": {
    "collapsed": true
   },
   "source": [
    "## Import results"
   ]
  },
  {
   "cell_type": "code",
   "execution_count": 14,
   "metadata": {},
   "outputs": [],
   "source": [
    "Protein = pd.read_csv('Protein_results.csv')\n",
    "Zinc = pd.read_csv('Zinc_results.csv')\n",
    "Iron = pd.read_csv('Iron_results.csv')\n",
    "Calcium = pd.read_csv('Calcium_results.csv')\n",
    "Omega3 = pd.read_csv('Omega-3_results.csv')\n",
    "Vitamin_A = pd.read_csv('Vitamin_A_results.csv')\n",
    "Selenium = pd.read_csv('Selenium_results.csv')\n",
    "\n",
    "Results = [Protein, Zinc, Iron, Calcium, Omega3, Vitamin_A, Selenium]"
   ]
  },
  {
   "cell_type": "code",
   "execution_count": 15,
   "metadata": {},
   "outputs": [],
   "source": [
    "varord = ['reef_assoc', 'benthopela', 'pelagic_ne',\n",
    "       'pelagic_oc', 'subtropica', 'polar_deep', 'tropical', 'MaxDepth', 'TL',\n",
    "       'Pelagic', 'LMax', 'short_deep', 'elongate', 'flat', 'K', 'tm', 'whole',\n",
    "       'whole_part', 'dry', 'Expert', 'FAO']\n",
    "varnames = ['Reef assoc.', 'Benthopelagic', 'Pelagic-neritic',\n",
    "       'Pelagic-oceanic', 'Subtropical', 'Polar/deep', 'Tropical', 'Max depth', 'Trophic level',\n",
    "       'Pelagic', 'Max length', 'Short-deep', 'Elongate', 'Flat', 'K', 'Maturity age', 'Whole',\n",
    "       'Whole-noparts', 'Dry', 'Expert', 'FAO']\n",
    "nvar = len(varnames)"
   ]
  },
  {
   "cell_type": "markdown",
   "metadata": {},
   "source": [
    "# EEZ predictions"
   ]
  },
  {
   "cell_type": "code",
   "execution_count": 16,
   "metadata": {},
   "outputs": [
    {
     "data": {
      "text/plain": [
       "4604"
      ]
     },
     "execution_count": 16,
     "metadata": {},
     "output_type": "execute_result"
    }
   ],
   "source": [
    "nrows = sdata.shape[0]\n",
    "nrows"
   ]
  },
  {
   "cell_type": "code",
   "execution_count": 17,
   "metadata": {},
   "outputs": [],
   "source": [
    "# Specify nutrient\n",
    "REZ = Protein\n",
    "\n",
    "# Add empty columns to SAU data\n",
    "xmu = np.empty(nrows)\n",
    "xl95 = np.empty(nrows)\n",
    "xl50 = np.empty(nrows)\n",
    "xu50 = np.empty(nrows)\n",
    "xu95 = np.empty(nrows)\n",
    "\n",
    "for i in range(nrows):\n",
    "    #print(i/nrows)\n",
    "    # μ = β0+β1[Ih]+β2[Ic]+β3*MaxDepth+β4*TL+β5*Pelagic+β6*LMax+β7[Ib]+β8*K+β9*tm+β10[If]+β11[Ip]+β12[Is]\n",
    "    tmp = sdata.iloc[i]\n",
    "    # Expected nutrients\n",
    "    Ex = REZ['Intercept'].values+REZ[tmp['DemersPelag']].values+REZ[tmp['EnvTemp']].values+REZ['MaxDepth'].values*np.log(tmp['DepthRangeDeep'])+REZ['TL'].values*tmp['trophic_level']+REZ['pelagic'].values*1*(tmp['Feeding_path']=='pelagic')+REZ['LMax'].values*np.log(tmp['LMax'])+REZ[tmp['BodyShapeI']].values+REZ['K'].values*tmp['K']+REZ['tm'].values*np.log(tmp['tm'])\n",
    "    # Scaled to catch - g/100g to kg/yr = g/kg/yr\n",
    "    #nut = ((np.exp(Ex)-1)*10)*np.log(tmp['kg_year']/1000+1)\n",
    "    nut = ((np.exp(Ex)-1))\n",
    "    \n",
    "    # Add summary statistics to SAU data\n",
    "    xmu[i] = max(np.median(nut),0)\n",
    "    xl95[i] = max(np.percentile(nut,2.5),0)\n",
    "    xl50[i] = max(np.percentile(nut,25),0)\n",
    "    xu50[i] = max(np.percentile(nut,50),0)\n",
    "    xu95[i] = max(np.percentile(nut,97.5),0)\n",
    "    \n",
    "sdata['Protein_mu'] = xmu*sdata.prop_catch.values\n",
    "sdata['Protein_l95'] = xl95*sdata.prop_catch.values\n",
    "sdata['Protein_l50'] = xl50*sdata.prop_catch.values\n",
    "sdata['Protein_u50'] = xu50*sdata.prop_catch.values\n",
    "sdata['Protein_u95'] = xu95*sdata.prop_catch.values"
   ]
  },
  {
   "cell_type": "code",
   "execution_count": 18,
   "metadata": {},
   "outputs": [
    {
     "data": {
      "text/plain": [
       "array([3.51890573e-09, 3.24572396e-03, 7.70531575e-03, ...,\n",
       "       2.05913503e-02, 1.00055182e-02, 1.16047776e-01])"
      ]
     },
     "execution_count": 18,
     "metadata": {},
     "output_type": "execute_result"
    }
   ],
   "source": [
    "sdata.prop_catch.values"
   ]
  },
  {
   "cell_type": "code",
   "execution_count": 19,
   "metadata": {},
   "outputs": [
    {
     "data": {
      "image/png": "[encoded data removed]",
      "text/plain": [
       "<Figure size 432x288 with 1 Axes>"
      ]
     },
     "metadata": {
      "needs_background": "light"
     },
     "output_type": "display_data"
    }
   ],
   "source": [
    "plt.hist(sdata['Protein_mu']);"
   ]
  },
  {
   "cell_type": "code",
   "execution_count": 20,
   "metadata": {},
   "outputs": [
    {
     "data": {
      "image/png": "[encoded data removed]",
      "text/plain": [
       "<Figure size 432x288 with 1 Axes>"
      ]
     },
     "metadata": {
      "needs_background": "light"
     },
     "output_type": "display_data"
    }
   ],
   "source": [
    "Y_ = ndata.Protein_Value_perc.values\n",
    "indx = np.isnan(Y_)==False\n",
    "Y = Y_[indx]\n",
    "plt.hist(Y);"
   ]
  },
  {
   "cell_type": "code",
   "execution_count": 21,
   "metadata": {},
   "outputs": [],
   "source": [
    "# Specify nutrient\n",
    "REZ = Zinc\n",
    "\n",
    "# Add empty columns to SAU data\n",
    "xmu = np.empty(nrows)\n",
    "xl95 = np.empty(nrows)\n",
    "xl50 = np.empty(nrows)\n",
    "xu50 = np.empty(nrows)\n",
    "xu95 = np.empty(nrows)\n",
    "\n",
    "for i in range(nrows):\n",
    "    #print(i/nrows)\n",
    "    # μ = β0+β1[Ih]+β2[Ic]+β3*MaxDepth+β4*TL+β5*Pelagic+β6*LMax+β7[Ib]+β8*K+β9*tm+β10[If]+β11[Ip]+β12[Is]\n",
    "    tmp = sdata.iloc[i]\n",
    "    # Expected nutrients\n",
    "    Ex = REZ['Intercept'].values+REZ[tmp['DemersPelag']].values+REZ[tmp['EnvTemp']].values+REZ['MaxDepth'].values*np.log(tmp['DepthRangeDeep'])+REZ['TL'].values*tmp['trophic_level']+REZ['pelagic'].values*1*(tmp['Feeding_path']=='pelagic')+REZ['LMax'].values*np.log(tmp['LMax'])+REZ[tmp['BodyShapeI']].values+REZ['K'].values*tmp['K']+REZ['tm'].values*np.log(tmp['tm'])\n",
    "    # Scaled to catch - g/100g to kg/yr = g/kg/yr\n",
    "    #nut = ((np.exp(Ex)-1)*10)*np.log(tmp['kg_year']/1000+1)\n",
    "    nut = np.exp(((np.exp(Ex))))-1\n",
    "    \n",
    "    # Add summary statistics to SAU data\n",
    "    xmu[i] = max(np.median(nut),0)\n",
    "    xl95[i] = max(np.percentile(nut,2.5),0)\n",
    "    xl50[i] = max(np.percentile(nut,25),0)\n",
    "    xu50[i] = max(np.percentile(nut,50),0)\n",
    "    xu95[i] = max(np.percentile(nut,97.5),0)\n",
    "    \n",
    "sdata['Zinc_mu'] = xmu*sdata.prop_catch.values\n",
    "sdata['Zinc_l95'] = xl95*sdata.prop_catch.values\n",
    "sdata['Zinc_l50'] = xl50*sdata.prop_catch.values\n",
    "sdata['Zinc_u50'] = xu50*sdata.prop_catch.values\n",
    "sdata['Zinc_u95'] = xu95*sdata.prop_catch.values"
   ]
  },
  {
   "cell_type": "code",
   "execution_count": 22,
   "metadata": {},
   "outputs": [
    {
     "data": {
      "image/png": "[encoded data removed]",
      "text/plain": [
       "<Figure size 432x288 with 1 Axes>"
      ]
     },
     "metadata": {
      "needs_background": "light"
     },
     "output_type": "display_data"
    }
   ],
   "source": [
    "plt.hist(sdata['Zinc_mu'])\n",
    "plt.xlim(0,12);"
   ]
  },
  {
   "cell_type": "code",
   "execution_count": 23,
   "metadata": {},
   "outputs": [
    {
     "data": {
      "image/png": "[encoded data removed]",
      "text/plain": [
       "<Figure size 432x288 with 1 Axes>"
      ]
     },
     "metadata": {
      "needs_background": "light"
     },
     "output_type": "display_data"
    }
   ],
   "source": [
    "Y_ = ndata.Zn_Value.values\n",
    "indx = np.isnan(Y_)==False\n",
    "Y = Y_[indx]\n",
    "plt.hist(Y,bins=50)\n",
    "plt.xlim(0,12);"
   ]
  },
  {
   "cell_type": "code",
   "execution_count": 24,
   "metadata": {},
   "outputs": [],
   "source": [
    "# Specify nutrient\n",
    "REZ = Iron\n",
    "\n",
    "# Add empty columns to SAU data\n",
    "xmu = np.empty(nrows)\n",
    "xl95 = np.empty(nrows)\n",
    "xl50 = np.empty(nrows)\n",
    "xu50 = np.empty(nrows)\n",
    "xu95 = np.empty(nrows)\n",
    "\n",
    "for i in range(nrows):\n",
    "    #print(i/nrows)\n",
    "    # μ = β0+β1[Ih]+β2[Ic]+β3*MaxDepth+β4*TL+β5*Pelagic+β6*LMax+β7[Ib]+β8*K+β9*tm+β10[If]+β11[Ip]+β12[Is]\n",
    "    tmp = sdata.iloc[i]\n",
    "    # Expected nutrients\n",
    "    Ex = REZ['Intercept'].values+REZ[tmp['DemersPelag']].values+REZ[tmp['EnvTemp']].values+REZ['MaxDepth'].values*np.log(tmp['DepthRangeDeep'])+REZ['TL'].values*tmp['trophic_level']+REZ['pelagic'].values*1*(tmp['Feeding_path']=='pelagic')+REZ['LMax'].values*np.log(tmp['LMax'])+REZ[tmp['BodyShapeI']].values+REZ['K'].values*tmp['K']+REZ['tm'].values*np.log(tmp['tm'])\n",
    "    # Scaled to catch - g/100g to kg/yr = g/kg/yr\n",
    "    #nut = ((np.exp(Ex)-1)*10)*np.log(tmp['kg_year']/1000+1)\n",
    "    nut = np.exp((np.exp(Ex)))-1\n",
    "    \n",
    "    # Add summary statistics to SAU data\n",
    "    xmu[i] = max(np.median(nut),0)\n",
    "    xl95[i] = max(np.percentile(nut,2.5),0)\n",
    "    xl50[i] = max(np.percentile(nut,25),0)\n",
    "    xu50[i] = max(np.percentile(nut,50),0)\n",
    "    xu95[i] = max(np.percentile(nut,97.5),0)\n",
    "    \n",
    "sdata['Iron_mu'] = xmu*sdata.prop_catch.values\n",
    "sdata['Iron_l95'] = xl95*sdata.prop_catch.values\n",
    "sdata['Iron_l50'] = xl50*sdata.prop_catch.values\n",
    "sdata['Iron_u50'] = xu50*sdata.prop_catch.values\n",
    "sdata['Iron_u95'] = xu95*sdata.prop_catch.values"
   ]
  },
  {
   "cell_type": "code",
   "execution_count": 25,
   "metadata": {},
   "outputs": [
    {
     "data": {
      "image/png": "[encoded data removed]",
      "text/plain": [
       "<Figure size 432x288 with 1 Axes>"
      ]
     },
     "metadata": {
      "needs_background": "light"
     },
     "output_type": "display_data"
    }
   ],
   "source": [
    "plt.hist(sdata['Iron_mu'],bins=10)\n",
    "plt.xlim(0,15);"
   ]
  },
  {
   "cell_type": "code",
   "execution_count": 26,
   "metadata": {},
   "outputs": [
    {
     "data": {
      "image/png": "[encoded data removed]",
      "text/plain": [
       "<Figure size 432x288 with 1 Axes>"
      ]
     },
     "metadata": {
      "needs_background": "light"
     },
     "output_type": "display_data"
    }
   ],
   "source": [
    "Y_ = ndata.Fe_Value.values\n",
    "indx = np.isnan(Y_)==False\n",
    "Y = Y_[indx]\n",
    "plt.hist(Y,bins=100)\n",
    "plt.xlim(0,15);"
   ]
  },
  {
   "cell_type": "code",
   "execution_count": 27,
   "metadata": {},
   "outputs": [],
   "source": [
    "# Specify nutrient\n",
    "REZ = Calcium\n",
    "\n",
    "# Add empty columns to SAU data\n",
    "xmu = np.empty(nrows)\n",
    "xl95 = np.empty(nrows)\n",
    "xl50 = np.empty(nrows)\n",
    "xu50 = np.empty(nrows)\n",
    "xu95 = np.empty(nrows)\n",
    "\n",
    "for i in range(nrows):\n",
    "    #print(i/nrows)\n",
    "    # μ = β0+β1[Ih]+β2[Ic]+β3*MaxDepth+β4*TL+β5*Pelagic+β6*LMax+β7[Ib]+β8*K+β9*tm+β10[If]+β11[Ip]+β12[Is]\n",
    "    tmp = sdata.iloc[i]\n",
    "    # Expected nutrients\n",
    "    Ex = REZ['Intercept'].values+REZ[tmp['DemersPelag']].values+REZ[tmp['EnvTemp']].values+REZ['MaxDepth'].values*np.log(tmp['DepthRangeDeep'])+REZ['TL'].values*tmp['trophic_level']+REZ['pelagic'].values*1*(tmp['Feeding_path']=='pelagic')+REZ['LMax'].values*np.log(tmp['LMax'])+REZ[tmp['BodyShapeI']].values+REZ['K'].values*tmp['K']+REZ['tm'].values*np.log(tmp['tm'])\n",
    "    # Scaled to catch - g/100g to kg/yr = g/kg/yr\n",
    "    #nut = ((np.exp(Ex)-1)*10)*np.log(tmp['kg_year']/1000+1)\n",
    "    nut = ((np.exp(Ex)-1))\n",
    "    \n",
    "    # Add summary statistics to SAU data\n",
    "    xmu[i] = max(np.median(nut),0)\n",
    "    xl95[i] = max(np.percentile(nut,2.5),0)\n",
    "    xl50[i] = max(np.percentile(nut,25),0)\n",
    "    xu50[i] = max(np.percentile(nut,50),0)\n",
    "    xu95[i] = max(np.percentile(nut,97.5),0)\n",
    "    \n",
    "sdata['Calcium_mu'] = xmu*sdata.prop_catch.values\n",
    "sdata['Calcium_l95'] = xl95*sdata.prop_catch.values\n",
    "sdata['Calcium_l50'] = xl50*sdata.prop_catch.values\n",
    "sdata['Calcium_u50'] = xu50*sdata.prop_catch.values\n",
    "sdata['Calcium_u95'] = xu95*sdata.prop_catch.values"
   ]
  },
  {
   "cell_type": "code",
   "execution_count": 28,
   "metadata": {},
   "outputs": [
    {
     "data": {
      "image/png": "[encoded data removed]",
      "text/plain": [
       "<Figure size 432x288 with 1 Axes>"
      ]
     },
     "metadata": {
      "needs_background": "light"
     },
     "output_type": "display_data"
    }
   ],
   "source": [
    "plt.hist(sdata['Calcium_mu'])\n",
    "plt.xlim(0,2000);"
   ]
  },
  {
   "cell_type": "code",
   "execution_count": 29,
   "metadata": {},
   "outputs": [
    {
     "data": {
      "image/png": "[encoded data removed]",
      "text/plain": [
       "<Figure size 432x288 with 1 Axes>"
      ]
     },
     "metadata": {
      "needs_background": "light"
     },
     "output_type": "display_data"
    }
   ],
   "source": [
    "Y_ = ndata.Ca_Value.values\n",
    "indx = np.isnan(Y_)==False\n",
    "Y = Y_[indx]\n",
    "plt.hist(Y,bins=50)\n",
    "plt.xlim(0,2000);"
   ]
  },
  {
   "cell_type": "code",
   "execution_count": 30,
   "metadata": {},
   "outputs": [],
   "source": [
    "# Specify nutrient\n",
    "REZ = Omega3\n",
    "\n",
    "# Add empty columns to SAU data\n",
    "xmu = np.empty(nrows)\n",
    "xl95 = np.empty(nrows)\n",
    "xl50 = np.empty(nrows)\n",
    "xu50 = np.empty(nrows)\n",
    "xu95 = np.empty(nrows)\n",
    "\n",
    "for i in range(nrows):\n",
    "    #print(i/nrows)\n",
    "    # μ = β0+β1[Ih]+β2[Ic]+β3*MaxDepth+β4*TL+β5*Pelagic+β6*LMax+β7[Ib]+β8*K+β9*tm+β10[If]+β11[Ip]+β12[Is]\n",
    "    tmp = sdata.iloc[i]\n",
    "    # Expected nutrients\n",
    "    Ex = REZ['Intercept'].values+REZ[tmp['DemersPelag']].values+REZ[tmp['EnvTemp']].values+REZ['MaxDepth'].values*np.log(tmp['DepthRangeDeep'])+REZ['TL'].values*tmp['trophic_level']+REZ['pelagic'].values*1*(tmp['Feeding_path']=='pelagic')+REZ['LMax'].values*np.log(tmp['LMax'])+REZ[tmp['BodyShapeI']].values+REZ['K'].values*tmp['K']+REZ['tm'].values*np.log(tmp['tm'])\n",
    "    # Scaled to catch - g/100g to kg/yr = g/kg/yr\n",
    "    #nut = ((np.exp(Ex)-1)*10)*np.log(tmp['kg_year']/1000+1)\n",
    "    nut = ((np.exp(Ex)-1))\n",
    "    \n",
    "    # Add summary statistics to SAU data\n",
    "    xmu[i] = max(np.median(nut),0)\n",
    "    xl95[i] = max(np.percentile(nut,2.5),0)\n",
    "    xl50[i] = max(np.percentile(nut,25),0)\n",
    "    xu50[i] = max(np.percentile(nut,50),0)\n",
    "    xu95[i] = max(np.percentile(nut,97.5),0)\n",
    "    \n",
    "sdata['Omega3_mu'] = xmu*sdata.prop_catch.values\n",
    "sdata['Omega3_l95'] = xl95*sdata.prop_catch.values\n",
    "sdata['Omega3_l50'] = xl50*sdata.prop_catch.values\n",
    "sdata['Omega3_u50'] = xu50*sdata.prop_catch.values\n",
    "sdata['Omega3_u95'] = xu95*sdata.prop_catch.values"
   ]
  },
  {
   "cell_type": "code",
   "execution_count": 31,
   "metadata": {},
   "outputs": [
    {
     "data": {
      "image/png": "[encoded data removed]",
      "text/plain": [
       "<Figure size 432x288 with 1 Axes>"
      ]
     },
     "metadata": {
      "needs_background": "light"
     },
     "output_type": "display_data"
    }
   ],
   "source": [
    "plt.hist(sdata['Omega3_mu'])\n",
    "plt.xlim(0,10);"
   ]
  },
  {
   "cell_type": "code",
   "execution_count": 32,
   "metadata": {},
   "outputs": [
    {
     "data": {
      "image/png": "[encoded data removed]",
      "text/plain": [
       "<Figure size 432x288 with 1 Axes>"
      ]
     },
     "metadata": {
      "needs_background": "light"
     },
     "output_type": "display_data"
    }
   ],
   "source": [
    "Y_ = ndata.O3_Value.values\n",
    "indx = np.isnan(Y_)==False\n",
    "Y = Y_[indx]\n",
    "plt.hist(Y,bins=100)\n",
    "plt.xlim(0,10);"
   ]
  },
  {
   "cell_type": "code",
   "execution_count": 33,
   "metadata": {},
   "outputs": [],
   "source": [
    "# Specify nutrient\n",
    "REZ = Vitamin_A\n",
    "\n",
    "# Add empty columns to SAU data\n",
    "xmu = np.empty(nrows)\n",
    "xl95 = np.empty(nrows)\n",
    "xl50 = np.empty(nrows)\n",
    "xu50 = np.empty(nrows)\n",
    "xu95 = np.empty(nrows)\n",
    "\n",
    "for i in range(nrows):\n",
    "    #print(i/nrows)\n",
    "    # μ = β0+β1[Ih]+β2[Ic]+β3*MaxDepth+β4*TL+β5*Pelagic+β6*LMax+β7[Ib]+β8*K+β9*tm+β10[If]+β11[Ip]+β12[Is]\n",
    "    tmp = sdata.iloc[i]\n",
    "    # Expected nutrients\n",
    "    Ex = REZ['Intercept'].values+REZ[tmp['DemersPelag']].values+REZ[tmp['EnvTemp']].values+REZ['MaxDepth'].values*np.log(tmp['DepthRangeDeep'])+REZ['TL'].values*tmp['trophic_level']+REZ['pelagic'].values*1*(tmp['Feeding_path']=='pelagic')+REZ['LMax'].values*np.log(tmp['LMax'])+REZ[tmp['BodyShapeI']].values+REZ['K'].values*tmp['K']+REZ['tm'].values*np.log(tmp['tm'])\n",
    "    # Scaled to catch - g/100g to kg/yr = g/kg/yr\n",
    "    #nut = ((np.exp(Ex)-1)*10)*np.log(tmp['kg_year']/1000+1)\n",
    "    nut = ((np.exp(Ex)-1))\n",
    "    \n",
    "    # Add summary statistics to SAU data\n",
    "    xmu[i] = max(np.median(nut),0)\n",
    "    xl95[i] = max(np.percentile(nut,2.5),0)\n",
    "    xl50[i] = max(np.percentile(nut,25),0)\n",
    "    xu50[i] = max(np.percentile(nut,50),0)\n",
    "    xu95[i] = max(np.percentile(nut,97.5),0)\n",
    "    \n",
    "sdata['Vitamin_A_mu'] = xmu*sdata.prop_catch.values\n",
    "sdata['Vitamin_A_l95'] = xl95*sdata.prop_catch.values\n",
    "sdata['Vitamin_A_l50'] = xl50*sdata.prop_catch.values\n",
    "sdata['Vitamin_A_u50'] = xu50*sdata.prop_catch.values\n",
    "sdata['Vitamin_A_u95'] = xu95*sdata.prop_catch.values"
   ]
  },
  {
   "cell_type": "code",
   "execution_count": 34,
   "metadata": {},
   "outputs": [
    {
     "data": {
      "image/png": "[encoded data removed]",
      "text/plain": [
       "<Figure size 432x288 with 1 Axes>"
      ]
     },
     "metadata": {
      "needs_background": "light"
     },
     "output_type": "display_data"
    }
   ],
   "source": [
    "plt.hist(sdata['Vitamin_A_mu'])\n",
    "plt.xlim(0,1000);"
   ]
  },
  {
   "cell_type": "code",
   "execution_count": 35,
   "metadata": {},
   "outputs": [
    {
     "data": {
      "image/png": "[encoded data removed]",
      "text/plain": [
       "<Figure size 432x288 with 1 Axes>"
      ]
     },
     "metadata": {
      "needs_background": "light"
     },
     "output_type": "display_data"
    }
   ],
   "source": [
    "Y_ = ndata.VitA_Value.values\n",
    "indx = np.isnan(Y_)==False\n",
    "Y = Y_[indx]\n",
    "plt.hist(Y,bins=100)\n",
    "plt.xlim(0,1000);"
   ]
  },
  {
   "cell_type": "code",
   "execution_count": 36,
   "metadata": {},
   "outputs": [],
   "source": [
    "# Specify nutrient\n",
    "REZ = Selenium\n",
    "\n",
    "# Add empty columns to SAU data\n",
    "xmu = np.empty(nrows)\n",
    "xl95 = np.empty(nrows)\n",
    "xl50 = np.empty(nrows)\n",
    "xu50 = np.empty(nrows)\n",
    "xu95 = np.empty(nrows)\n",
    "\n",
    "for i in range(nrows):\n",
    "    #print(i/nrows)\n",
    "    # μ = β0+β1[Ih]+β2[Ic]+β3*MaxDepth+β4*TL+β5*Pelagic+β6*LMax+β7[Ib]+β8*K+β9*tm+β10[If]+β11[Ip]+β12[Is]\n",
    "    tmp = sdata.iloc[i]\n",
    "    # Expected nutrients\n",
    "    Ex = REZ['Intercept'].values+REZ[tmp['DemersPelag']].values+REZ[tmp['EnvTemp']].values+REZ['MaxDepth'].values*np.log(tmp['DepthRangeDeep'])+REZ['TL'].values*tmp['trophic_level']+REZ['pelagic'].values*1*(tmp['Feeding_path']=='pelagic')+REZ['LMax'].values*np.log(tmp['LMax'])+REZ[tmp['BodyShapeI']].values+REZ['K'].values*tmp['K']+REZ['tm'].values*np.log(tmp['tm'])\n",
    "    # Scaled to catch - g/100g to kg/yr = g/kg/yr\n",
    "    #nut = ((np.exp(Ex)-1)*10)*np.log(tmp['kg_year']/1000+1)\n",
    "    nut = ((np.exp(Ex)-1))\n",
    "    \n",
    "    # Add summary statistics to SAU data\n",
    "    xmu[i] = max(np.median(nut),0)\n",
    "    xl95[i] = max(np.percentile(nut,2.5),0)\n",
    "    xl50[i] = max(np.percentile(nut,25),0)\n",
    "    xu50[i] = max(np.percentile(nut,50),0)\n",
    "    xu95[i] = max(np.percentile(nut,97.5),0)\n",
    "    \n",
    "sdata['Selenium_mu'] = xmu*sdata.prop_catch.values\n",
    "sdata['Selenium_l95'] = xl95*sdata.prop_catch.values\n",
    "sdata['Selenium_l50'] = xl50*sdata.prop_catch.values\n",
    "sdata['Selenium_u50'] = xu50*sdata.prop_catch.values\n",
    "sdata['Selenium_u95'] = xu95*sdata.prop_catch.values"
   ]
  },
  {
   "cell_type": "code",
   "execution_count": 37,
   "metadata": {},
   "outputs": [
    {
     "data": {
      "image/png": "[encoded data removed]",
      "text/plain": [
       "<Figure size 432x288 with 1 Axes>"
      ]
     },
     "metadata": {
      "needs_background": "light"
     },
     "output_type": "display_data"
    }
   ],
   "source": [
    "plt.hist(sdata['Selenium_mu'])\n",
    "plt.xlim(0,500);"
   ]
  },
  {
   "cell_type": "code",
   "execution_count": 38,
   "metadata": {},
   "outputs": [
    {
     "data": {
      "image/png": "[encoded data removed]",
      "text/plain": [
       "<Figure size 432x288 with 1 Axes>"
      ]
     },
     "metadata": {
      "needs_background": "light"
     },
     "output_type": "display_data"
    }
   ],
   "source": [
    "Y_ = ndata.Se_Value.values\n",
    "indx = np.isnan(Y_)==False\n",
    "Y = Y_[indx]\n",
    "plt.hist(Y,bins=100)\n",
    "plt.xlim(0,500);"
   ]
  },
  {
   "cell_type": "code",
   "execution_count": 39,
   "metadata": {},
   "outputs": [],
   "source": [
    "out = sdata.groupby(['EEZ'])[[\"Protein_mu\", \"Zinc_mu\", \"Iron_mu\", \"Calcium_mu\",\"Omega3_mu\",\"Vitamin_A_mu\",\"Selenium_mu\"]].sum()"
   ]
  },
  {
   "cell_type": "code",
   "execution_count": 40,
   "metadata": {},
   "outputs": [
    {
     "data": {
      "text/plain": [
       "274"
      ]
     },
     "execution_count": 40,
     "metadata": {},
     "output_type": "execute_result"
    }
   ],
   "source": [
    "len(sdata.EEZ.unique())"
   ]
  },
  {
   "cell_type": "code",
   "execution_count": 41,
   "metadata": {},
   "outputs": [],
   "source": [
    "# ADD missing EEZs back in\n",
    "missing_eez = ['American_Samoa', 'Canada_(Arctic)','Cocos_(Keeling)_Isl_(Australia)', 'Russia_(Kara_Sea)', 'Russia_(Laptev_to_Chukchi_Sea)', 'USA_(Alaska_Arctic)']\n",
    "nmissing = len(missing_eez)\n",
    "\n",
    "maxi = out.shape[0]\n",
    "\n",
    "for i in range(nmissing):\n",
    "    out.loc[maxi+i] = 0\n",
    "\n",
    "as_list = out.index.tolist()\n",
    "as_list[-nmissing:] = missing_eez\n",
    "out.index = as_list\n"
   ]
  },
  {
   "cell_type": "code",
   "execution_count": 42,
   "metadata": {},
   "outputs": [],
   "source": [
    "out.index.name = 'EEZ'"
   ]
  },
  {
   "cell_type": "code",
   "execution_count": 43,
   "metadata": {},
   "outputs": [],
   "source": [
    "# Sort by EEZ name\n",
    "out = out.sort_values(['EEZ'],ascending=True)"
   ]
  },
  {
   "cell_type": "code",
   "execution_count": 44,
   "metadata": {},
   "outputs": [],
   "source": [
    "out.to_csv(\"SAU_nutrient_projections_by_EEZ_reported.csv\")"
   ]
  },
  {
   "cell_type": "code",
   "execution_count": 45,
   "metadata": {},
   "outputs": [
    {
     "data": {
      "text/html": [
       "<div>\n",
       "<style scoped>\n",
       "    .dataframe tbody tr th:only-of-type {\n",
       "        vertical-align: middle;\n",
       "    }\n",
       "\n",
       "    .dataframe tbody tr th {\n",
       "        vertical-align: top;\n",
       "    }\n",
       "\n",
       "    .dataframe thead th {\n",
       "        text-align: right;\n",
       "    }\n",
       "</style>\n",
       "<table border=\"1\" class=\"dataframe\">\n",
       "  <thead>\n",
       "    <tr style=\"text-align: right;\">\n",
       "      <th></th>\n",
       "      <th>Protein_mu</th>\n",
       "      <th>Zinc_mu</th>\n",
       "      <th>Iron_mu</th>\n",
       "      <th>Calcium_mu</th>\n",
       "      <th>Omega3_mu</th>\n",
       "      <th>Vitamin_A_mu</th>\n",
       "      <th>Selenium_mu</th>\n",
       "    </tr>\n",
       "    <tr>\n",
       "      <th>EEZ</th>\n",
       "      <th></th>\n",
       "      <th></th>\n",
       "      <th></th>\n",
       "      <th></th>\n",
       "      <th></th>\n",
       "      <th></th>\n",
       "      <th></th>\n",
       "    </tr>\n",
       "  </thead>\n",
       "  <tbody>\n",
       "    <tr>\n",
       "      <th>Albania</th>\n",
       "      <td>20.237088</td>\n",
       "      <td>0.989376</td>\n",
       "      <td>1.977075</td>\n",
       "      <td>135.035620</td>\n",
       "      <td>0.354614</td>\n",
       "      <td>26.828790</td>\n",
       "      <td>11.728267</td>\n",
       "    </tr>\n",
       "    <tr>\n",
       "      <th>Algeria</th>\n",
       "      <td>19.858117</td>\n",
       "      <td>1.368307</td>\n",
       "      <td>2.447297</td>\n",
       "      <td>149.157704</td>\n",
       "      <td>0.331769</td>\n",
       "      <td>32.877411</td>\n",
       "      <td>11.780553</td>\n",
       "    </tr>\n",
       "    <tr>\n",
       "      <th>American_Samoa</th>\n",
       "      <td>0.000000</td>\n",
       "      <td>0.000000</td>\n",
       "      <td>0.000000</td>\n",
       "      <td>0.000000</td>\n",
       "      <td>0.000000</td>\n",
       "      <td>0.000000</td>\n",
       "      <td>0.000000</td>\n",
       "    </tr>\n",
       "    <tr>\n",
       "      <th>Andaman_&amp;_Nicobar_Isl_(India)</th>\n",
       "      <td>20.966075</td>\n",
       "      <td>1.234781</td>\n",
       "      <td>2.518956</td>\n",
       "      <td>41.426187</td>\n",
       "      <td>0.043227</td>\n",
       "      <td>12.719542</td>\n",
       "      <td>6.689949</td>\n",
       "    </tr>\n",
       "    <tr>\n",
       "      <th>Angola</th>\n",
       "      <td>19.307061</td>\n",
       "      <td>1.814234</td>\n",
       "      <td>2.469531</td>\n",
       "      <td>120.355042</td>\n",
       "      <td>0.213628</td>\n",
       "      <td>36.352289</td>\n",
       "      <td>7.188646</td>\n",
       "    </tr>\n",
       "  </tbody>\n",
       "</table>\n",
       "</div>"
      ],
      "text/plain": [
       "                               Protein_mu   Zinc_mu   Iron_mu  Calcium_mu  \\\n",
       "EEZ                                                                         \n",
       "Albania                         20.237088  0.989376  1.977075  135.035620   \n",
       "Algeria                         19.858117  1.368307  2.447297  149.157704   \n",
       "American_Samoa                   0.000000  0.000000  0.000000    0.000000   \n",
       "Andaman_&_Nicobar_Isl_(India)   20.966075  1.234781  2.518956   41.426187   \n",
       "Angola                          19.307061  1.814234  2.469531  120.355042   \n",
       "\n",
       "                               Omega3_mu  Vitamin_A_mu  Selenium_mu  \n",
       "EEZ                                                                  \n",
       "Albania                         0.354614     26.828790    11.728267  \n",
       "Algeria                         0.331769     32.877411    11.780553  \n",
       "American_Samoa                  0.000000      0.000000     0.000000  \n",
       "Andaman_&_Nicobar_Isl_(India)   0.043227     12.719542     6.689949  \n",
       "Angola                          0.213628     36.352289     7.188646  "
      ]
     },
     "execution_count": 45,
     "metadata": {},
     "output_type": "execute_result"
    }
   ],
   "source": [
    "out.head()"
   ]
  }
 ],
 "metadata": {
  "kernelspec": {
   "display_name": "Python 3",
   "language": "python",
   "name": "python3"
  },
  "language_info": {
   "codemirror_mode": {
    "name": "ipython",
    "version": 3
   },
   "file_extension": ".py",
   "mimetype": "text/x-python",
   "name": "python",
   "nbconvert_exporter": "python",
   "pygments_lexer": "ipython3",
   "version": "3.7.1"
  }
 },
 "nbformat": 4,
 "nbformat_minor": 2
}
